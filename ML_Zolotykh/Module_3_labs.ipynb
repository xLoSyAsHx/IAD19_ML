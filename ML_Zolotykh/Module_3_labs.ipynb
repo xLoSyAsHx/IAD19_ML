{
 "cells": [
  {
   "cell_type": "code",
   "execution_count": 4,
   "metadata": {},
   "outputs": [],
   "source": [
    "# Losev Ivan 19 IAD\n",
    "#\n",
    "# Dataset: https://archive.ics.uci.edu/ml/datasets/Abalone\n",
    "# Num of Attributes: 9\n",
    "# Num of Instances 4177\n",
    "#\n",
    "# Task: Classification\n",
    "# Goal: Predict the age of abalone from physical measurements"
   ]
  },
  {
   "cell_type": "code",
   "execution_count": 16,
   "metadata": {},
   "outputs": [
    {
     "data": {
      "text/html": [
       "<style>.container { width:90% !important; }</style>"
      ],
      "text/plain": [
       "<IPython.core.display.HTML object>"
      ]
     },
     "metadata": {},
     "output_type": "display_data"
    }
   ],
   "source": [
    "import numpy as np\n",
    "import matplotlib.pyplot as plt\n",
    "import pandas as pd\n",
    "from itertools import chain\n",
    "%matplotlib inline\n",
    "\n",
    "import os\n",
    "\n",
    "from IPython.core.display import display, HTML\n",
    "display(HTML(\"<style>.container { width:90% !important; }</style>\"))"
   ]
  },
  {
   "cell_type": "code",
   "execution_count": 6,
   "metadata": {},
   "outputs": [
    {
     "name": "stdout",
     "output_type": "stream",
     "text": [
      "(4177, 9)\n"
     ]
    },
    {
     "data": {
      "text/html": [
       "<div>\n",
       "<style scoped>\n",
       "    .dataframe tbody tr th:only-of-type {\n",
       "        vertical-align: middle;\n",
       "    }\n",
       "\n",
       "    .dataframe tbody tr th {\n",
       "        vertical-align: top;\n",
       "    }\n",
       "\n",
       "    .dataframe thead th {\n",
       "        text-align: right;\n",
       "    }\n",
       "</style>\n",
       "<table border=\"1\" class=\"dataframe\">\n",
       "  <thead>\n",
       "    <tr style=\"text-align: right;\">\n",
       "      <th></th>\n",
       "      <th>Sex</th>\n",
       "      <th>Length</th>\n",
       "      <th>Diameter</th>\n",
       "      <th>Height</th>\n",
       "      <th>Whole weight</th>\n",
       "      <th>Shucked weight</th>\n",
       "      <th>Viscera weight</th>\n",
       "      <th>Shell weight</th>\n",
       "      <th>Rings</th>\n",
       "    </tr>\n",
       "  </thead>\n",
       "  <tbody>\n",
       "    <tr>\n",
       "      <td>0</td>\n",
       "      <td>M</td>\n",
       "      <td>0.455</td>\n",
       "      <td>0.365</td>\n",
       "      <td>0.095</td>\n",
       "      <td>0.5140</td>\n",
       "      <td>0.2245</td>\n",
       "      <td>0.1010</td>\n",
       "      <td>0.150</td>\n",
       "      <td>15</td>\n",
       "    </tr>\n",
       "    <tr>\n",
       "      <td>1</td>\n",
       "      <td>M</td>\n",
       "      <td>0.350</td>\n",
       "      <td>0.265</td>\n",
       "      <td>0.090</td>\n",
       "      <td>0.2255</td>\n",
       "      <td>0.0995</td>\n",
       "      <td>0.0485</td>\n",
       "      <td>0.070</td>\n",
       "      <td>7</td>\n",
       "    </tr>\n",
       "    <tr>\n",
       "      <td>2</td>\n",
       "      <td>F</td>\n",
       "      <td>0.530</td>\n",
       "      <td>0.420</td>\n",
       "      <td>0.135</td>\n",
       "      <td>0.6770</td>\n",
       "      <td>0.2565</td>\n",
       "      <td>0.1415</td>\n",
       "      <td>0.210</td>\n",
       "      <td>9</td>\n",
       "    </tr>\n",
       "    <tr>\n",
       "      <td>3</td>\n",
       "      <td>M</td>\n",
       "      <td>0.440</td>\n",
       "      <td>0.365</td>\n",
       "      <td>0.125</td>\n",
       "      <td>0.5160</td>\n",
       "      <td>0.2155</td>\n",
       "      <td>0.1140</td>\n",
       "      <td>0.155</td>\n",
       "      <td>10</td>\n",
       "    </tr>\n",
       "    <tr>\n",
       "      <td>4</td>\n",
       "      <td>I</td>\n",
       "      <td>0.330</td>\n",
       "      <td>0.255</td>\n",
       "      <td>0.080</td>\n",
       "      <td>0.2050</td>\n",
       "      <td>0.0895</td>\n",
       "      <td>0.0395</td>\n",
       "      <td>0.055</td>\n",
       "      <td>7</td>\n",
       "    </tr>\n",
       "  </tbody>\n",
       "</table>\n",
       "</div>"
      ],
      "text/plain": [
       "  Sex  Length  Diameter  Height  Whole weight  Shucked weight  Viscera weight  \\\n",
       "0   M   0.455     0.365   0.095        0.5140          0.2245          0.1010   \n",
       "1   M   0.350     0.265   0.090        0.2255          0.0995          0.0485   \n",
       "2   F   0.530     0.420   0.135        0.6770          0.2565          0.1415   \n",
       "3   M   0.440     0.365   0.125        0.5160          0.2155          0.1140   \n",
       "4   I   0.330     0.255   0.080        0.2050          0.0895          0.0395   \n",
       "\n",
       "   Shell weight  Rings  \n",
       "0         0.150     15  \n",
       "1         0.070      7  \n",
       "2         0.210      9  \n",
       "3         0.155     10  \n",
       "4         0.055      7  "
      ]
     },
     "execution_count": 6,
     "metadata": {},
     "output_type": "execute_result"
    }
   ],
   "source": [
    "df  = pd.read_csv(os.getcwd() + '\\\\abalone.data', header=None)\n",
    "df.columns = ['Sex', 'Length', 'Diameter', 'Height', 'Whole weight',\n",
    "       'Shucked weight', 'Viscera weight', 'Shell weight', 'Rings']\n",
    "\n",
    "print(df.shape)\n",
    "df.head()"
   ]
  },
  {
   "cell_type": "code",
   "execution_count": 7,
   "metadata": {},
   "outputs": [
    {
     "data": {
      "text/plain": [
       "M    1528\n",
       "I    1342\n",
       "F    1307\n",
       "Name: Sex, dtype: int64"
      ]
     },
     "execution_count": 7,
     "metadata": {},
     "output_type": "execute_result"
    }
   ],
   "source": [
    "df['Sex'].value_counts()"
   ]
  },
  {
   "cell_type": "code",
   "execution_count": 8,
   "metadata": {},
   "outputs": [
    {
     "data": {
      "text/html": [
       "<div>\n",
       "<style scoped>\n",
       "    .dataframe tbody tr th:only-of-type {\n",
       "        vertical-align: middle;\n",
       "    }\n",
       "\n",
       "    .dataframe tbody tr th {\n",
       "        vertical-align: top;\n",
       "    }\n",
       "\n",
       "    .dataframe thead th {\n",
       "        text-align: right;\n",
       "    }\n",
       "</style>\n",
       "<table border=\"1\" class=\"dataframe\">\n",
       "  <thead>\n",
       "    <tr style=\"text-align: right;\">\n",
       "      <th></th>\n",
       "      <th>F</th>\n",
       "      <th>I</th>\n",
       "      <th>M</th>\n",
       "      <th>Length</th>\n",
       "      <th>Diameter</th>\n",
       "      <th>Height</th>\n",
       "      <th>Whole weight</th>\n",
       "      <th>Shucked weight</th>\n",
       "      <th>Viscera weight</th>\n",
       "      <th>Shell weight</th>\n",
       "      <th>Rings</th>\n",
       "    </tr>\n",
       "  </thead>\n",
       "  <tbody>\n",
       "    <tr>\n",
       "      <td>0</td>\n",
       "      <td>0</td>\n",
       "      <td>0</td>\n",
       "      <td>1</td>\n",
       "      <td>-0.574489</td>\n",
       "      <td>-0.432097</td>\n",
       "      <td>-1.064297</td>\n",
       "      <td>-0.641821</td>\n",
       "      <td>-0.607613</td>\n",
       "      <td>-0.726125</td>\n",
       "      <td>-0.638140</td>\n",
       "      <td>15</td>\n",
       "    </tr>\n",
       "    <tr>\n",
       "      <td>1</td>\n",
       "      <td>0</td>\n",
       "      <td>0</td>\n",
       "      <td>1</td>\n",
       "      <td>-1.448812</td>\n",
       "      <td>-1.439757</td>\n",
       "      <td>-1.183837</td>\n",
       "      <td>-1.230130</td>\n",
       "      <td>-1.170770</td>\n",
       "      <td>-1.205077</td>\n",
       "      <td>-1.212842</td>\n",
       "      <td>7</td>\n",
       "    </tr>\n",
       "    <tr>\n",
       "      <td>2</td>\n",
       "      <td>1</td>\n",
       "      <td>0</td>\n",
       "      <td>0</td>\n",
       "      <td>0.050027</td>\n",
       "      <td>0.122116</td>\n",
       "      <td>-0.107978</td>\n",
       "      <td>-0.309432</td>\n",
       "      <td>-0.463444</td>\n",
       "      <td>-0.356647</td>\n",
       "      <td>-0.207114</td>\n",
       "      <td>9</td>\n",
       "    </tr>\n",
       "    <tr>\n",
       "      <td>3</td>\n",
       "      <td>0</td>\n",
       "      <td>0</td>\n",
       "      <td>1</td>\n",
       "      <td>-0.699393</td>\n",
       "      <td>-0.432097</td>\n",
       "      <td>-0.347058</td>\n",
       "      <td>-0.637743</td>\n",
       "      <td>-0.648160</td>\n",
       "      <td>-0.607527</td>\n",
       "      <td>-0.602222</td>\n",
       "      <td>10</td>\n",
       "    </tr>\n",
       "    <tr>\n",
       "      <td>4</td>\n",
       "      <td>0</td>\n",
       "      <td>1</td>\n",
       "      <td>0</td>\n",
       "      <td>-1.615350</td>\n",
       "      <td>-1.540523</td>\n",
       "      <td>-1.422916</td>\n",
       "      <td>-1.271933</td>\n",
       "      <td>-1.215822</td>\n",
       "      <td>-1.287183</td>\n",
       "      <td>-1.320599</td>\n",
       "      <td>7</td>\n",
       "    </tr>\n",
       "  </tbody>\n",
       "</table>\n",
       "</div>"
      ],
      "text/plain": [
       "   F  I  M    Length  Diameter    Height  Whole weight  Shucked weight  \\\n",
       "0  0  0  1 -0.574489 -0.432097 -1.064297     -0.641821       -0.607613   \n",
       "1  0  0  1 -1.448812 -1.439757 -1.183837     -1.230130       -1.170770   \n",
       "2  1  0  0  0.050027  0.122116 -0.107978     -0.309432       -0.463444   \n",
       "3  0  0  1 -0.699393 -0.432097 -0.347058     -0.637743       -0.648160   \n",
       "4  0  1  0 -1.615350 -1.540523 -1.422916     -1.271933       -1.215822   \n",
       "\n",
       "   Viscera weight  Shell weight  Rings  \n",
       "0       -0.726125     -0.638140     15  \n",
       "1       -1.205077     -1.212842      7  \n",
       "2       -0.356647     -0.207114      9  \n",
       "3       -0.607527     -0.602222     10  \n",
       "4       -1.287183     -1.320599      7  "
      ]
     },
     "execution_count": 8,
     "metadata": {},
     "output_type": "execute_result"
    }
   ],
   "source": [
    "numerical_data = df.drop(['Sex', 'Rings'], axis=1)\n",
    "numerical_data = (numerical_data - numerical_data.mean(axis = 0))/numerical_data.std(axis = 0)\n",
    "                               \n",
    "                               \n",
    "clear_df = pd.concat([pd.get_dummies(df['Sex']), numerical_data, df['Rings']], axis=1)\n",
    "clear_df.head()"
   ]
  },
  {
   "cell_type": "code",
   "execution_count": 22,
   "metadata": {},
   "outputs": [
    {
     "name": "stdout",
     "output_type": "stream",
     "text": [
      "3341 836\n"
     ]
    }
   ],
   "source": [
    "df2 = clear_df.copy()\n",
    "\n",
    "df2.at[df2['Rings'] < 7, 'Rings'] = 0\n",
    "df2.at[(df2['Rings'] >= 7)  & (df2['Rings'] < 12), 'Rings'] = 1\n",
    "df2.at[(df2['Rings'] >= 12) & (df2['Rings'] < 16), 'Rings'] = 2\n",
    "df2.at[(df2['Rings'] >= 16) & (df2['Rings'] < 20), 'Rings'] = 3\n",
    "df2.at[df2['Rings'] >= 20, 'Rings'] = 4\n",
    "\n",
    "\n",
    "X = df2.drop(['Rings', 'I', 'M', 'F', 'Length'], axis=1)\n",
    "y = df2['Rings']\n",
    "\n",
    "from sklearn.model_selection import train_test_split\n",
    "X_train, X_test, y_train, y_test = train_test_split(X, y, test_size = 0.2, random_state = 42)\n",
    "split_data = (X_train, X_test, y_train, y_test)\n",
    "\n",
    "N_train, _ = X_train.shape \n",
    "N_test,  _ = X_test.shape \n",
    "\n",
    "print(N_train, N_test)\n",
    "RES_MAP={}"
   ]
  },
  {
   "cell_type": "code",
   "execution_count": null,
   "metadata": {},
   "outputs": [],
   "source": [
    "import seaborn as sns\n",
    "\n",
    "from sklearn.ensemble import RandomForestClassifier\n",
    "from sklearn.ensemble import GradientBoostingClassifier\n",
    "from sklearn.metrics import confusion_matrix\n",
    "from sklearn.metrics import classification_report\n",
    "\n",
    "\n",
    "def RFClassifier(split_data, n_estimators):\n",
    "    X_train, X_test, y_train, y_test = split_data\n",
    "    \n",
    "    rf = RandomForestClassifier(n_estimators=n_estimators, max_depth=4, random_state=42, warm_start=True,\n",
    "                                oob_score=True, n_jobs=4,criterion=\"entropy\", verbose=1)\n",
    "    rf.fit(X_train, y_train)\n",
    "\n",
    "    name = f'RF_n_est_{n_estimators}'\n",
    "    RES_MAP[name] = {}\n",
    "    RES_MAP[name]['train_e'] = err_train = round(1 - rf.score(X_train, y_train), 4)\n",
    "    RES_MAP[name]['test_e']  = err_test  = round(np.mean(y_test  != rf.predict(X_test)), 4)\n",
    "    RES_MAP[name]['oob_e']   = err_oob   = round(rf.oob_score_, 4)\n",
    "    RES_MAP[name]['predict'] = rf.predict(X_test)\n",
    "\n",
    "    print(f'RandomForestClassifier n({n_estimators:>5}) errs: train {err_train}; test {err_test}; oob {err_oob}')\n",
    "    RES_MAP[name]['stat'] = f'RandomForestClassifier n({n_estimators:>5}) errs: train {err_train}; test {err_test}; oob {err_oob}'\n",
    "\n",
    "\n",
    "def GBClassifier(split_data, n_estimators):\n",
    "    X_train, X_test, y_train, y_test = split_data\n",
    "    \n",
    "    gb = GradientBoostingClassifier(n_estimators=n_estimators, max_depth=4, random_state=42, warm_start=True,\n",
    "                                subsample=0.9, verbose=1)\n",
    "    gb.fit(X_train, y_train)\n",
    "\n",
    "    name = f'GB_n_est_{n_estimators}'\n",
    "    RES_MAP[name] = {}\n",
    "    RES_MAP[name]['train_e'] = err_train = round(1 - gb.score(X_train, y_train), 4)\n",
    "    RES_MAP[name]['test_e']  = err_test  = round(np.mean(y_test  != gb.predict(X_test)), 4)\n",
    "    RES_MAP[name]['predict'] = gb.predict(X_test)\n",
    "\n",
    "    print(f'GradientBoostingClassifier n({n_estimators:>5}) errs: train {err_train}; test {err_test}')\n",
    "    RES_MAP[name]['stat'] = f'GradientBoostingClassifier n({n_estimators:>5}) errs: train {err_train}; test {err_test}'"
   ]
  },
  {
   "cell_type": "code",
   "execution_count": 48,
   "metadata": {},
   "outputs": [
    {
     "name": "stderr",
     "output_type": "stream",
     "text": [
      "[Parallel(n_jobs=4)]: Using backend ThreadingBackend with 4 concurrent workers.\n",
      "[Parallel(n_jobs=4)]: Done  20 out of  20 | elapsed:    0.0s finished\n",
      "[Parallel(n_jobs=4)]: Using backend ThreadingBackend with 4 concurrent workers.\n",
      "[Parallel(n_jobs=4)]: Done  20 out of  20 | elapsed:    0.0s finished\n",
      "[Parallel(n_jobs=4)]: Using backend ThreadingBackend with 4 concurrent workers.\n",
      "[Parallel(n_jobs=4)]: Done  20 out of  20 | elapsed:    0.0s finished\n",
      "[Parallel(n_jobs=4)]: Using backend ThreadingBackend with 4 concurrent workers.\n"
     ]
    },
    {
     "name": "stdout",
     "output_type": "stream",
     "text": [
      "RandomForestClassifier n(   20) errs: train 0.2954; test 0.2787; oob 0.7004\n"
     ]
    },
    {
     "name": "stderr",
     "output_type": "stream",
     "text": [
      "[Parallel(n_jobs=4)]: Done  40 out of  40 | elapsed:    0.0s finished\n",
      "[Parallel(n_jobs=4)]: Using backend ThreadingBackend with 4 concurrent workers.\n",
      "[Parallel(n_jobs=4)]: Done  40 out of  40 | elapsed:    0.0s finished\n",
      "[Parallel(n_jobs=4)]: Using backend ThreadingBackend with 4 concurrent workers.\n",
      "[Parallel(n_jobs=4)]: Done  40 out of  40 | elapsed:    0.0s finished\n"
     ]
    },
    {
     "name": "stdout",
     "output_type": "stream",
     "text": [
      "RandomForestClassifier n(   40) errs: train 0.2945; test 0.2811; oob 0.6995\n"
     ]
    },
    {
     "name": "stderr",
     "output_type": "stream",
     "text": [
      "[Parallel(n_jobs=4)]: Using backend ThreadingBackend with 4 concurrent workers.\n",
      "[Parallel(n_jobs=4)]: Done  42 tasks      | elapsed:    0.0s\n",
      "[Parallel(n_jobs=4)]: Done  60 out of  60 | elapsed:    0.1s finished\n",
      "[Parallel(n_jobs=4)]: Using backend ThreadingBackend with 4 concurrent workers.\n",
      "[Parallel(n_jobs=4)]: Done  42 tasks      | elapsed:    0.0s\n",
      "[Parallel(n_jobs=4)]: Done  60 out of  60 | elapsed:    0.0s finished\n",
      "[Parallel(n_jobs=4)]: Using backend ThreadingBackend with 4 concurrent workers.\n",
      "[Parallel(n_jobs=4)]: Done  42 tasks      | elapsed:    0.0s\n",
      "[Parallel(n_jobs=4)]: Done  60 out of  60 | elapsed:    0.0s finished\n"
     ]
    },
    {
     "name": "stdout",
     "output_type": "stream",
     "text": [
      "RandomForestClassifier n(   60) errs: train 0.2951; test 0.2799; oob 0.6998\n"
     ]
    },
    {
     "name": "stderr",
     "output_type": "stream",
     "text": [
      "[Parallel(n_jobs=4)]: Using backend ThreadingBackend with 4 concurrent workers.\n",
      "[Parallel(n_jobs=4)]: Done  42 tasks      | elapsed:    0.0s\n",
      "[Parallel(n_jobs=4)]: Done  80 out of  80 | elapsed:    0.1s finished\n",
      "[Parallel(n_jobs=4)]: Using backend ThreadingBackend with 4 concurrent workers.\n",
      "[Parallel(n_jobs=4)]: Done  42 tasks      | elapsed:    0.0s\n",
      "[Parallel(n_jobs=4)]: Done  80 out of  80 | elapsed:    0.0s finished\n",
      "[Parallel(n_jobs=4)]: Using backend ThreadingBackend with 4 concurrent workers.\n",
      "[Parallel(n_jobs=4)]: Done  42 tasks      | elapsed:    0.0s\n",
      "[Parallel(n_jobs=4)]: Done  80 out of  80 | elapsed:    0.0s finished\n"
     ]
    },
    {
     "name": "stdout",
     "output_type": "stream",
     "text": [
      "RandomForestClassifier n(   80) errs: train 0.2945; test 0.2787; oob 0.701\n"
     ]
    },
    {
     "name": "stderr",
     "output_type": "stream",
     "text": [
      "[Parallel(n_jobs=4)]: Using backend ThreadingBackend with 4 concurrent workers.\n",
      "[Parallel(n_jobs=4)]: Done  42 tasks      | elapsed:    0.0s\n",
      "[Parallel(n_jobs=4)]: Done 100 out of 100 | elapsed:    0.1s finished\n",
      "[Parallel(n_jobs=4)]: Using backend ThreadingBackend with 4 concurrent workers.\n",
      "[Parallel(n_jobs=4)]: Done  42 tasks      | elapsed:    0.0s\n",
      "[Parallel(n_jobs=4)]: Done 100 out of 100 | elapsed:    0.0s finished\n",
      "[Parallel(n_jobs=4)]: Using backend ThreadingBackend with 4 concurrent workers.\n",
      "[Parallel(n_jobs=4)]: Done  42 tasks      | elapsed:    0.0s\n",
      "[Parallel(n_jobs=4)]: Done 100 out of 100 | elapsed:    0.0s finished\n",
      "[Parallel(n_jobs=4)]: Using backend ThreadingBackend with 4 concurrent workers.\n"
     ]
    },
    {
     "name": "stdout",
     "output_type": "stream",
     "text": [
      "RandomForestClassifier n(  100) errs: train 0.2945; test 0.2787; oob 0.7025\n"
     ]
    },
    {
     "name": "stderr",
     "output_type": "stream",
     "text": [
      "[Parallel(n_jobs=4)]: Done  42 tasks      | elapsed:    0.0s\n",
      "[Parallel(n_jobs=4)]: Done 120 out of 120 | elapsed:    0.2s finished\n",
      "[Parallel(n_jobs=4)]: Using backend ThreadingBackend with 4 concurrent workers.\n",
      "[Parallel(n_jobs=4)]: Done  42 tasks      | elapsed:    0.0s\n",
      "[Parallel(n_jobs=4)]: Done 120 out of 120 | elapsed:    0.1s finished\n",
      "[Parallel(n_jobs=4)]: Using backend ThreadingBackend with 4 concurrent workers.\n",
      "[Parallel(n_jobs=4)]: Done  42 tasks      | elapsed:    0.0s\n",
      "[Parallel(n_jobs=4)]: Done 120 out of 120 | elapsed:    0.1s finished\n"
     ]
    },
    {
     "name": "stdout",
     "output_type": "stream",
     "text": [
      "RandomForestClassifier n(  120) errs: train 0.2942; test 0.2787; oob 0.7022\n"
     ]
    },
    {
     "name": "stderr",
     "output_type": "stream",
     "text": [
      "[Parallel(n_jobs=4)]: Using backend ThreadingBackend with 4 concurrent workers.\n",
      "[Parallel(n_jobs=4)]: Done  42 tasks      | elapsed:    0.0s\n",
      "[Parallel(n_jobs=4)]: Done 140 out of 140 | elapsed:    0.2s finished\n",
      "[Parallel(n_jobs=4)]: Using backend ThreadingBackend with 4 concurrent workers.\n",
      "[Parallel(n_jobs=4)]: Done  42 tasks      | elapsed:    0.0s\n",
      "[Parallel(n_jobs=4)]: Done 140 out of 140 | elapsed:    0.1s finished\n",
      "[Parallel(n_jobs=4)]: Using backend ThreadingBackend with 4 concurrent workers.\n",
      "[Parallel(n_jobs=4)]: Done  42 tasks      | elapsed:    0.0s\n",
      "[Parallel(n_jobs=4)]: Done 140 out of 140 | elapsed:    0.0s finished\n"
     ]
    },
    {
     "name": "stdout",
     "output_type": "stream",
     "text": [
      "RandomForestClassifier n(  140) errs: train 0.2942; test 0.2787; oob 0.7016\n"
     ]
    },
    {
     "name": "stderr",
     "output_type": "stream",
     "text": [
      "[Parallel(n_jobs=4)]: Using backend ThreadingBackend with 4 concurrent workers.\n",
      "[Parallel(n_jobs=4)]: Done  42 tasks      | elapsed:    0.0s\n",
      "[Parallel(n_jobs=4)]: Done 160 out of 160 | elapsed:    0.2s finished\n",
      "[Parallel(n_jobs=4)]: Using backend ThreadingBackend with 4 concurrent workers.\n",
      "[Parallel(n_jobs=4)]: Done  42 tasks      | elapsed:    0.0s\n",
      "[Parallel(n_jobs=4)]: Done 160 out of 160 | elapsed:    0.1s finished\n",
      "[Parallel(n_jobs=4)]: Using backend ThreadingBackend with 4 concurrent workers.\n",
      "[Parallel(n_jobs=4)]: Done  42 tasks      | elapsed:    0.0s\n",
      "[Parallel(n_jobs=4)]: Done 160 out of 160 | elapsed:    0.1s finished\n",
      "[Parallel(n_jobs=4)]: Using backend ThreadingBackend with 4 concurrent workers.\n"
     ]
    },
    {
     "name": "stdout",
     "output_type": "stream",
     "text": [
      "RandomForestClassifier n(  160) errs: train 0.2939; test 0.2775; oob 0.7007\n"
     ]
    },
    {
     "name": "stderr",
     "output_type": "stream",
     "text": [
      "[Parallel(n_jobs=4)]: Done  42 tasks      | elapsed:    0.0s\n",
      "[Parallel(n_jobs=4)]: Done 180 out of 180 | elapsed:    0.3s finished\n",
      "[Parallel(n_jobs=4)]: Using backend ThreadingBackend with 4 concurrent workers.\n",
      "[Parallel(n_jobs=4)]: Done  42 tasks      | elapsed:    0.0s\n",
      "[Parallel(n_jobs=4)]: Done 180 out of 180 | elapsed:    0.1s finished\n",
      "[Parallel(n_jobs=4)]: Using backend ThreadingBackend with 4 concurrent workers.\n",
      "[Parallel(n_jobs=4)]: Done  42 tasks      | elapsed:    0.0s\n",
      "[Parallel(n_jobs=4)]: Done 180 out of 180 | elapsed:    0.1s finished\n",
      "[Parallel(n_jobs=4)]: Using backend ThreadingBackend with 4 concurrent workers.\n"
     ]
    },
    {
     "name": "stdout",
     "output_type": "stream",
     "text": [
      "RandomForestClassifier n(  180) errs: train 0.2942; test 0.2775; oob 0.7007\n"
     ]
    },
    {
     "name": "stderr",
     "output_type": "stream",
     "text": [
      "[Parallel(n_jobs=4)]: Done  42 tasks      | elapsed:    0.0s\n",
      "[Parallel(n_jobs=4)]: Done 192 tasks      | elapsed:    0.3s\n",
      "[Parallel(n_jobs=4)]: Done 200 out of 200 | elapsed:    0.3s finished\n",
      "[Parallel(n_jobs=4)]: Using backend ThreadingBackend with 4 concurrent workers.\n",
      "[Parallel(n_jobs=4)]: Done  42 tasks      | elapsed:    0.0s\n",
      "[Parallel(n_jobs=4)]: Done 192 tasks      | elapsed:    0.2s\n",
      "[Parallel(n_jobs=4)]: Done 200 out of 200 | elapsed:    0.2s finished\n",
      "[Parallel(n_jobs=4)]: Using backend ThreadingBackend with 4 concurrent workers.\n",
      "[Parallel(n_jobs=4)]: Done  42 tasks      | elapsed:    0.0s\n",
      "[Parallel(n_jobs=4)]: Done 192 tasks      | elapsed:    0.1s\n",
      "[Parallel(n_jobs=4)]: Done 200 out of 200 | elapsed:    0.1s finished\n"
     ]
    },
    {
     "name": "stdout",
     "output_type": "stream",
     "text": [
      "RandomForestClassifier n(  200) errs: train 0.2942; test 0.2787; oob 0.701\n"
     ]
    },
    {
     "name": "stderr",
     "output_type": "stream",
     "text": [
      "[Parallel(n_jobs=4)]: Using backend ThreadingBackend with 4 concurrent workers.\n",
      "[Parallel(n_jobs=4)]: Done  42 tasks      | elapsed:    0.0s\n",
      "[Parallel(n_jobs=4)]: Done 192 tasks      | elapsed:    0.2s\n",
      "[Parallel(n_jobs=4)]: Done 220 out of 220 | elapsed:    0.3s finished\n",
      "[Parallel(n_jobs=4)]: Using backend ThreadingBackend with 4 concurrent workers.\n",
      "[Parallel(n_jobs=4)]: Done  42 tasks      | elapsed:    0.0s\n",
      "[Parallel(n_jobs=4)]: Done 192 tasks      | elapsed:    0.3s\n",
      "[Parallel(n_jobs=4)]: Done 220 out of 220 | elapsed:    0.3s finished\n",
      "[Parallel(n_jobs=4)]: Using backend ThreadingBackend with 4 concurrent workers.\n",
      "[Parallel(n_jobs=4)]: Done  42 tasks      | elapsed:    0.0s\n",
      "[Parallel(n_jobs=4)]: Done 192 tasks      | elapsed:    0.1s\n",
      "[Parallel(n_jobs=4)]: Done 220 out of 220 | elapsed:    0.1s finished\n",
      "[Parallel(n_jobs=4)]: Using backend ThreadingBackend with 4 concurrent workers.\n"
     ]
    },
    {
     "name": "stdout",
     "output_type": "stream",
     "text": [
      "RandomForestClassifier n(  220) errs: train 0.2945; test 0.2787; oob 0.7007\n"
     ]
    },
    {
     "name": "stderr",
     "output_type": "stream",
     "text": [
      "[Parallel(n_jobs=4)]: Done  42 tasks      | elapsed:    0.0s\n",
      "[Parallel(n_jobs=4)]: Done 192 tasks      | elapsed:    0.2s\n",
      "[Parallel(n_jobs=4)]: Done 240 out of 240 | elapsed:    0.3s finished\n",
      "[Parallel(n_jobs=4)]: Using backend ThreadingBackend with 4 concurrent workers.\n",
      "[Parallel(n_jobs=4)]: Done  42 tasks      | elapsed:    0.0s\n",
      "[Parallel(n_jobs=4)]: Done 192 tasks      | elapsed:    0.2s\n",
      "[Parallel(n_jobs=4)]: Done 240 out of 240 | elapsed:    0.2s finished\n",
      "[Parallel(n_jobs=4)]: Using backend ThreadingBackend with 4 concurrent workers.\n",
      "[Parallel(n_jobs=4)]: Done  42 tasks      | elapsed:    0.0s\n",
      "[Parallel(n_jobs=4)]: Done 192 tasks      | elapsed:    0.2s\n",
      "[Parallel(n_jobs=4)]: Done 240 out of 240 | elapsed:    0.2s finished\n"
     ]
    },
    {
     "name": "stdout",
     "output_type": "stream",
     "text": [
      "RandomForestClassifier n(  240) errs: train 0.2942; test 0.2787; oob 0.701\n"
     ]
    },
    {
     "name": "stderr",
     "output_type": "stream",
     "text": [
      "[Parallel(n_jobs=4)]: Using backend ThreadingBackend with 4 concurrent workers.\n",
      "[Parallel(n_jobs=4)]: Done  42 tasks      | elapsed:    0.0s\n",
      "[Parallel(n_jobs=4)]: Done 192 tasks      | elapsed:    0.3s\n",
      "[Parallel(n_jobs=4)]: Done 260 out of 260 | elapsed:    0.4s finished\n",
      "[Parallel(n_jobs=4)]: Using backend ThreadingBackend with 4 concurrent workers.\n",
      "[Parallel(n_jobs=4)]: Done  42 tasks      | elapsed:    0.0s\n",
      "[Parallel(n_jobs=4)]: Done 192 tasks      | elapsed:    0.1s\n",
      "[Parallel(n_jobs=4)]: Done 260 out of 260 | elapsed:    0.2s finished\n",
      "[Parallel(n_jobs=4)]: Using backend ThreadingBackend with 4 concurrent workers.\n",
      "[Parallel(n_jobs=4)]: Done  42 tasks      | elapsed:    0.0s\n",
      "[Parallel(n_jobs=4)]: Done 192 tasks      | elapsed:    0.1s\n",
      "[Parallel(n_jobs=4)]: Done 260 out of 260 | elapsed:    0.1s finished\n"
     ]
    },
    {
     "name": "stdout",
     "output_type": "stream",
     "text": [
      "RandomForestClassifier n(  260) errs: train 0.2948; test 0.2775; oob 0.701\n"
     ]
    },
    {
     "name": "stderr",
     "output_type": "stream",
     "text": [
      "[Parallel(n_jobs=4)]: Using backend ThreadingBackend with 4 concurrent workers.\n",
      "[Parallel(n_jobs=4)]: Done  42 tasks      | elapsed:    0.0s\n",
      "[Parallel(n_jobs=4)]: Done 192 tasks      | elapsed:    0.2s\n",
      "[Parallel(n_jobs=4)]: Done 280 out of 280 | elapsed:    0.4s finished\n",
      "[Parallel(n_jobs=4)]: Using backend ThreadingBackend with 4 concurrent workers.\n",
      "[Parallel(n_jobs=4)]: Done  42 tasks      | elapsed:    0.0s\n",
      "[Parallel(n_jobs=4)]: Done 192 tasks      | elapsed:    0.2s\n",
      "[Parallel(n_jobs=4)]: Done 280 out of 280 | elapsed:    0.3s finished\n",
      "[Parallel(n_jobs=4)]: Using backend ThreadingBackend with 4 concurrent workers.\n",
      "[Parallel(n_jobs=4)]: Done  42 tasks      | elapsed:    0.0s\n",
      "[Parallel(n_jobs=4)]: Done 192 tasks      | elapsed:    0.0s\n",
      "[Parallel(n_jobs=4)]: Done 280 out of 280 | elapsed:    0.1s finished\n"
     ]
    },
    {
     "name": "stdout",
     "output_type": "stream",
     "text": [
      "RandomForestClassifier n(  280) errs: train 0.2945; test 0.2775; oob 0.7013\n"
     ]
    },
    {
     "name": "stderr",
     "output_type": "stream",
     "text": [
      "[Parallel(n_jobs=4)]: Using backend ThreadingBackend with 4 concurrent workers.\n",
      "[Parallel(n_jobs=4)]: Done  42 tasks      | elapsed:    0.0s\n",
      "[Parallel(n_jobs=4)]: Done 192 tasks      | elapsed:    0.3s\n",
      "[Parallel(n_jobs=4)]: Done 300 out of 300 | elapsed:    0.5s finished\n",
      "[Parallel(n_jobs=4)]: Using backend ThreadingBackend with 4 concurrent workers.\n",
      "[Parallel(n_jobs=4)]: Done  42 tasks      | elapsed:    0.0s\n",
      "[Parallel(n_jobs=4)]: Done 192 tasks      | elapsed:    0.0s\n",
      "[Parallel(n_jobs=4)]: Done 300 out of 300 | elapsed:    0.1s finished\n",
      "[Parallel(n_jobs=4)]: Using backend ThreadingBackend with 4 concurrent workers.\n",
      "[Parallel(n_jobs=4)]: Done  42 tasks      | elapsed:    0.0s\n",
      "[Parallel(n_jobs=4)]: Done 192 tasks      | elapsed:    0.0s\n",
      "[Parallel(n_jobs=4)]: Done 300 out of 300 | elapsed:    0.1s finished\n"
     ]
    },
    {
     "name": "stdout",
     "output_type": "stream",
     "text": [
      "RandomForestClassifier n(  300) errs: train 0.2948; test 0.2775; oob 0.7007\n"
     ]
    },
    {
     "name": "stderr",
     "output_type": "stream",
     "text": [
      "[Parallel(n_jobs=4)]: Using backend ThreadingBackend with 4 concurrent workers.\n",
      "[Parallel(n_jobs=4)]: Done  42 tasks      | elapsed:    0.0s\n",
      "[Parallel(n_jobs=4)]: Done 192 tasks      | elapsed:    0.2s\n",
      "[Parallel(n_jobs=4)]: Done 400 out of 400 | elapsed:    0.5s finished\n",
      "[Parallel(n_jobs=4)]: Using backend ThreadingBackend with 4 concurrent workers.\n",
      "[Parallel(n_jobs=4)]: Done  42 tasks      | elapsed:    0.0s\n",
      "[Parallel(n_jobs=4)]: Done 192 tasks      | elapsed:    0.1s\n",
      "[Parallel(n_jobs=4)]: Done 400 out of 400 | elapsed:    0.2s finished\n",
      "[Parallel(n_jobs=4)]: Using backend ThreadingBackend with 4 concurrent workers.\n",
      "[Parallel(n_jobs=4)]: Done  42 tasks      | elapsed:    0.0s\n",
      "[Parallel(n_jobs=4)]: Done 192 tasks      | elapsed:    0.0s\n",
      "[Parallel(n_jobs=4)]: Done 400 out of 400 | elapsed:    0.2s finished\n"
     ]
    },
    {
     "name": "stdout",
     "output_type": "stream",
     "text": [
      "RandomForestClassifier n(  400) errs: train 0.2942; test 0.2775; oob 0.7004\n"
     ]
    },
    {
     "name": "stderr",
     "output_type": "stream",
     "text": [
      "[Parallel(n_jobs=4)]: Using backend ThreadingBackend with 4 concurrent workers.\n",
      "[Parallel(n_jobs=4)]: Done  42 tasks      | elapsed:    0.0s\n",
      "[Parallel(n_jobs=4)]: Done 192 tasks      | elapsed:    0.3s\n",
      "[Parallel(n_jobs=4)]: Done 442 tasks      | elapsed:    0.7s\n",
      "[Parallel(n_jobs=4)]: Done 500 out of 500 | elapsed:    0.8s finished\n",
      "[Parallel(n_jobs=4)]: Using backend ThreadingBackend with 4 concurrent workers.\n",
      "[Parallel(n_jobs=4)]: Done  42 tasks      | elapsed:    0.0s\n",
      "[Parallel(n_jobs=4)]: Done 192 tasks      | elapsed:    0.2s\n",
      "[Parallel(n_jobs=4)]: Done 442 tasks      | elapsed:    0.5s\n",
      "[Parallel(n_jobs=4)]: Done 500 out of 500 | elapsed:    0.6s finished\n",
      "[Parallel(n_jobs=4)]: Using backend ThreadingBackend with 4 concurrent workers.\n",
      "[Parallel(n_jobs=4)]: Done  42 tasks      | elapsed:    0.0s\n",
      "[Parallel(n_jobs=4)]: Done 192 tasks      | elapsed:    0.0s\n",
      "[Parallel(n_jobs=4)]: Done 442 tasks      | elapsed:    0.2s\n",
      "[Parallel(n_jobs=4)]: Done 500 out of 500 | elapsed:    0.2s finished\n"
     ]
    },
    {
     "name": "stdout",
     "output_type": "stream",
     "text": [
      "RandomForestClassifier n(  500) errs: train 0.2945; test 0.2775; oob 0.7004\n"
     ]
    },
    {
     "name": "stderr",
     "output_type": "stream",
     "text": [
      "[Parallel(n_jobs=4)]: Using backend ThreadingBackend with 4 concurrent workers.\n",
      "[Parallel(n_jobs=4)]: Done  42 tasks      | elapsed:    0.0s\n",
      "[Parallel(n_jobs=4)]: Done 192 tasks      | elapsed:    0.3s\n",
      "[Parallel(n_jobs=4)]: Done 442 tasks      | elapsed:    0.8s\n",
      "[Parallel(n_jobs=4)]: Done 600 out of 600 | elapsed:    1.1s finished\n",
      "[Parallel(n_jobs=4)]: Using backend ThreadingBackend with 4 concurrent workers.\n",
      "[Parallel(n_jobs=4)]: Done  42 tasks      | elapsed:    0.0s\n",
      "[Parallel(n_jobs=4)]: Done 192 tasks      | elapsed:    0.2s\n",
      "[Parallel(n_jobs=4)]: Done 442 tasks      | elapsed:    0.5s\n",
      "[Parallel(n_jobs=4)]: Done 600 out of 600 | elapsed:    0.7s finished\n",
      "[Parallel(n_jobs=4)]: Using backend ThreadingBackend with 4 concurrent workers.\n",
      "[Parallel(n_jobs=4)]: Done  42 tasks      | elapsed:    0.0s\n",
      "[Parallel(n_jobs=4)]: Done 192 tasks      | elapsed:    0.0s\n",
      "[Parallel(n_jobs=4)]: Done 442 tasks      | elapsed:    0.2s\n",
      "[Parallel(n_jobs=4)]: Done 600 out of 600 | elapsed:    0.3s finished\n"
     ]
    },
    {
     "name": "stdout",
     "output_type": "stream",
     "text": [
      "RandomForestClassifier n(  600) errs: train 0.2939; test 0.2775; oob 0.7016\n"
     ]
    },
    {
     "name": "stderr",
     "output_type": "stream",
     "text": [
      "[Parallel(n_jobs=4)]: Using backend ThreadingBackend with 4 concurrent workers.\n",
      "[Parallel(n_jobs=4)]: Done  42 tasks      | elapsed:    0.0s\n",
      "[Parallel(n_jobs=4)]: Done 192 tasks      | elapsed:    0.3s\n",
      "[Parallel(n_jobs=4)]: Done 442 tasks      | elapsed:    0.8s\n",
      "[Parallel(n_jobs=4)]: Done 700 out of 700 | elapsed:    1.4s finished\n",
      "[Parallel(n_jobs=4)]: Using backend ThreadingBackend with 4 concurrent workers.\n",
      "[Parallel(n_jobs=4)]: Done  42 tasks      | elapsed:    0.0s\n",
      "[Parallel(n_jobs=4)]: Done 192 tasks      | elapsed:    0.2s\n",
      "[Parallel(n_jobs=4)]: Done 442 tasks      | elapsed:    0.5s\n",
      "[Parallel(n_jobs=4)]: Done 700 out of 700 | elapsed:    0.9s finished\n",
      "[Parallel(n_jobs=4)]: Using backend ThreadingBackend with 4 concurrent workers.\n",
      "[Parallel(n_jobs=4)]: Done  42 tasks      | elapsed:    0.0s\n",
      "[Parallel(n_jobs=4)]: Done 192 tasks      | elapsed:    0.0s\n",
      "[Parallel(n_jobs=4)]: Done 442 tasks      | elapsed:    0.1s\n",
      "[Parallel(n_jobs=4)]: Done 700 out of 700 | elapsed:    0.3s finished\n"
     ]
    },
    {
     "name": "stdout",
     "output_type": "stream",
     "text": [
      "RandomForestClassifier n(  700) errs: train 0.2945; test 0.2775; oob 0.7007\n"
     ]
    },
    {
     "name": "stderr",
     "output_type": "stream",
     "text": [
      "[Parallel(n_jobs=4)]: Using backend ThreadingBackend with 4 concurrent workers.\n",
      "[Parallel(n_jobs=4)]: Done  42 tasks      | elapsed:    0.0s\n",
      "[Parallel(n_jobs=4)]: Done 192 tasks      | elapsed:    0.3s\n",
      "[Parallel(n_jobs=4)]: Done 442 tasks      | elapsed:    0.7s\n",
      "[Parallel(n_jobs=4)]: Done 792 tasks      | elapsed:    1.3s\n",
      "[Parallel(n_jobs=4)]: Done 800 out of 800 | elapsed:    1.3s finished\n",
      "[Parallel(n_jobs=4)]: Using backend ThreadingBackend with 4 concurrent workers.\n",
      "[Parallel(n_jobs=4)]: Done  42 tasks      | elapsed:    0.0s\n",
      "[Parallel(n_jobs=4)]: Done 192 tasks      | elapsed:    0.1s\n",
      "[Parallel(n_jobs=4)]: Done 442 tasks      | elapsed:    0.5s\n",
      "[Parallel(n_jobs=4)]: Done 792 tasks      | elapsed:    0.9s\n",
      "[Parallel(n_jobs=4)]: Done 800 out of 800 | elapsed:    0.9s finished\n",
      "[Parallel(n_jobs=4)]: Using backend ThreadingBackend with 4 concurrent workers.\n",
      "[Parallel(n_jobs=4)]: Done  42 tasks      | elapsed:    0.0s\n",
      "[Parallel(n_jobs=4)]: Done 192 tasks      | elapsed:    0.2s\n",
      "[Parallel(n_jobs=4)]: Done 442 tasks      | elapsed:    0.4s\n",
      "[Parallel(n_jobs=4)]: Done 792 tasks      | elapsed:    0.9s\n",
      "[Parallel(n_jobs=4)]: Done 800 out of 800 | elapsed:    0.9s finished\n"
     ]
    },
    {
     "name": "stdout",
     "output_type": "stream",
     "text": [
      "RandomForestClassifier n(  800) errs: train 0.2945; test 0.2775; oob 0.7016\n"
     ]
    },
    {
     "name": "stderr",
     "output_type": "stream",
     "text": [
      "[Parallel(n_jobs=4)]: Using backend ThreadingBackend with 4 concurrent workers.\n",
      "[Parallel(n_jobs=4)]: Done  42 tasks      | elapsed:    0.0s\n",
      "[Parallel(n_jobs=4)]: Done 192 tasks      | elapsed:    0.3s\n",
      "[Parallel(n_jobs=4)]: Done 442 tasks      | elapsed:    0.8s\n",
      "[Parallel(n_jobs=4)]: Done 792 tasks      | elapsed:    1.5s\n",
      "[Parallel(n_jobs=4)]: Done 900 out of 900 | elapsed:    1.7s finished\n",
      "[Parallel(n_jobs=4)]: Using backend ThreadingBackend with 4 concurrent workers.\n",
      "[Parallel(n_jobs=4)]: Done  42 tasks      | elapsed:    0.0s\n",
      "[Parallel(n_jobs=4)]: Done 192 tasks      | elapsed:    0.2s\n",
      "[Parallel(n_jobs=4)]: Done 442 tasks      | elapsed:    0.5s\n",
      "[Parallel(n_jobs=4)]: Done 792 tasks      | elapsed:    1.0s\n",
      "[Parallel(n_jobs=4)]: Done 900 out of 900 | elapsed:    1.1s finished\n",
      "[Parallel(n_jobs=4)]: Using backend ThreadingBackend with 4 concurrent workers.\n",
      "[Parallel(n_jobs=4)]: Done  42 tasks      | elapsed:    0.0s\n",
      "[Parallel(n_jobs=4)]: Done 192 tasks      | elapsed:    0.0s\n",
      "[Parallel(n_jobs=4)]: Done 442 tasks      | elapsed:    0.2s\n",
      "[Parallel(n_jobs=4)]: Done 792 tasks      | elapsed:    0.4s\n",
      "[Parallel(n_jobs=4)]: Done 900 out of 900 | elapsed:    0.5s finished\n"
     ]
    },
    {
     "name": "stdout",
     "output_type": "stream",
     "text": [
      "RandomForestClassifier n(  900) errs: train 0.2948; test 0.2787; oob 0.7013\n"
     ]
    },
    {
     "name": "stderr",
     "output_type": "stream",
     "text": [
      "[Parallel(n_jobs=4)]: Using backend ThreadingBackend with 4 concurrent workers.\n",
      "[Parallel(n_jobs=4)]: Done  42 tasks      | elapsed:    0.0s\n",
      "[Parallel(n_jobs=4)]: Done 192 tasks      | elapsed:    0.3s\n",
      "[Parallel(n_jobs=4)]: Done 442 tasks      | elapsed:    0.8s\n",
      "[Parallel(n_jobs=4)]: Done 792 tasks      | elapsed:    1.4s\n",
      "[Parallel(n_jobs=4)]: Done 1000 out of 1000 | elapsed:    1.8s finished\n",
      "[Parallel(n_jobs=4)]: Using backend ThreadingBackend with 4 concurrent workers.\n",
      "[Parallel(n_jobs=4)]: Done  42 tasks      | elapsed:    0.0s\n",
      "[Parallel(n_jobs=4)]: Done 192 tasks      | elapsed:    0.2s\n",
      "[Parallel(n_jobs=4)]: Done 442 tasks      | elapsed:    0.5s\n",
      "[Parallel(n_jobs=4)]: Done 792 tasks      | elapsed:    1.0s\n",
      "[Parallel(n_jobs=4)]: Done 1000 out of 1000 | elapsed:    1.3s finished\n",
      "[Parallel(n_jobs=4)]: Using backend ThreadingBackend with 4 concurrent workers.\n",
      "[Parallel(n_jobs=4)]: Done  42 tasks      | elapsed:    0.0s\n",
      "[Parallel(n_jobs=4)]: Done 192 tasks      | elapsed:    0.0s\n",
      "[Parallel(n_jobs=4)]: Done 442 tasks      | elapsed:    0.1s\n",
      "[Parallel(n_jobs=4)]: Done 792 tasks      | elapsed:    0.3s\n",
      "[Parallel(n_jobs=4)]: Done 1000 out of 1000 | elapsed:    0.4s finished\n"
     ]
    },
    {
     "name": "stdout",
     "output_type": "stream",
     "text": [
      "RandomForestClassifier n( 1000) errs: train 0.2945; test 0.2787; oob 0.701\n"
     ]
    },
    {
     "name": "stderr",
     "output_type": "stream",
     "text": [
      "[Parallel(n_jobs=4)]: Using backend ThreadingBackend with 4 concurrent workers.\n",
      "[Parallel(n_jobs=4)]: Done  42 tasks      | elapsed:    0.0s\n",
      "[Parallel(n_jobs=4)]: Done 192 tasks      | elapsed:    0.2s\n",
      "[Parallel(n_jobs=4)]: Done 442 tasks      | elapsed:    0.8s\n",
      "[Parallel(n_jobs=4)]: Done 792 tasks      | elapsed:    1.5s\n",
      "[Parallel(n_jobs=4)]: Done 1242 tasks      | elapsed:    2.4s\n",
      "[Parallel(n_jobs=4)]: Done 1792 tasks      | elapsed:    3.5s\n",
      "[Parallel(n_jobs=4)]: Done 2000 out of 2000 | elapsed:    3.9s finished\n",
      "[Parallel(n_jobs=4)]: Using backend ThreadingBackend with 4 concurrent workers.\n",
      "[Parallel(n_jobs=4)]: Done  42 tasks      | elapsed:    0.0s\n",
      "[Parallel(n_jobs=4)]: Done 192 tasks      | elapsed:    0.2s\n",
      "[Parallel(n_jobs=4)]: Done 442 tasks      | elapsed:    0.5s\n",
      "[Parallel(n_jobs=4)]: Done 792 tasks      | elapsed:    0.9s\n",
      "[Parallel(n_jobs=4)]: Done 1242 tasks      | elapsed:    1.5s\n",
      "[Parallel(n_jobs=4)]: Done 1792 tasks      | elapsed:    2.3s\n",
      "[Parallel(n_jobs=4)]: Done 2000 out of 2000 | elapsed:    2.5s finished\n",
      "[Parallel(n_jobs=4)]: Using backend ThreadingBackend with 4 concurrent workers.\n",
      "[Parallel(n_jobs=4)]: Done  42 tasks      | elapsed:    0.0s\n",
      "[Parallel(n_jobs=4)]: Done 192 tasks      | elapsed:    0.0s\n",
      "[Parallel(n_jobs=4)]: Done 442 tasks      | elapsed:    0.2s\n",
      "[Parallel(n_jobs=4)]: Done 792 tasks      | elapsed:    0.4s\n",
      "[Parallel(n_jobs=4)]: Done 1242 tasks      | elapsed:    0.6s\n",
      "[Parallel(n_jobs=4)]: Done 1792 tasks      | elapsed:    0.9s\n",
      "[Parallel(n_jobs=4)]: Done 2000 out of 2000 | elapsed:    1.0s finished\n"
     ]
    },
    {
     "name": "stdout",
     "output_type": "stream",
     "text": [
      "RandomForestClassifier n( 2000) errs: train 0.2945; test 0.2775; oob 0.7013\n"
     ]
    },
    {
     "name": "stderr",
     "output_type": "stream",
     "text": [
      "[Parallel(n_jobs=4)]: Using backend ThreadingBackend with 4 concurrent workers.\n",
      "[Parallel(n_jobs=4)]: Done  42 tasks      | elapsed:    0.0s\n",
      "[Parallel(n_jobs=4)]: Done 192 tasks      | elapsed:    0.3s\n",
      "[Parallel(n_jobs=4)]: Done 442 tasks      | elapsed:    0.6s\n",
      "[Parallel(n_jobs=4)]: Done 792 tasks      | elapsed:    1.2s\n",
      "[Parallel(n_jobs=4)]: Done 1242 tasks      | elapsed:    1.9s\n",
      "[Parallel(n_jobs=4)]: Done 1792 tasks      | elapsed:    2.8s\n",
      "[Parallel(n_jobs=4)]: Done 2442 tasks      | elapsed:    4.1s\n",
      "[Parallel(n_jobs=4)]: Done 3000 out of 3000 | elapsed:    5.1s finished\n",
      "[Parallel(n_jobs=4)]: Using backend ThreadingBackend with 4 concurrent workers.\n",
      "[Parallel(n_jobs=4)]: Done  42 tasks      | elapsed:    0.0s\n",
      "[Parallel(n_jobs=4)]: Done 192 tasks      | elapsed:    0.2s\n",
      "[Parallel(n_jobs=4)]: Done 442 tasks      | elapsed:    0.5s\n",
      "[Parallel(n_jobs=4)]: Done 792 tasks      | elapsed:    0.9s\n",
      "[Parallel(n_jobs=4)]: Done 1242 tasks      | elapsed:    1.5s\n",
      "[Parallel(n_jobs=4)]: Done 1792 tasks      | elapsed:    2.2s\n",
      "[Parallel(n_jobs=4)]: Done 2442 tasks      | elapsed:    3.1s\n",
      "[Parallel(n_jobs=4)]: Done 3000 out of 3000 | elapsed:    3.7s finished\n",
      "[Parallel(n_jobs=4)]: Using backend ThreadingBackend with 4 concurrent workers.\n",
      "[Parallel(n_jobs=4)]: Done  42 tasks      | elapsed:    0.0s\n",
      "[Parallel(n_jobs=4)]: Done 192 tasks      | elapsed:    0.1s\n",
      "[Parallel(n_jobs=4)]: Done 442 tasks      | elapsed:    0.2s\n",
      "[Parallel(n_jobs=4)]: Done 792 tasks      | elapsed:    0.5s\n",
      "[Parallel(n_jobs=4)]: Done 1242 tasks      | elapsed:    0.8s\n",
      "[Parallel(n_jobs=4)]: Done 1792 tasks      | elapsed:    1.1s\n",
      "[Parallel(n_jobs=4)]: Done 2442 tasks      | elapsed:    1.5s\n",
      "[Parallel(n_jobs=4)]: Done 3000 out of 3000 | elapsed:    1.8s finished\n"
     ]
    },
    {
     "name": "stdout",
     "output_type": "stream",
     "text": [
      "RandomForestClassifier n( 3000) errs: train 0.2948; test 0.2775; oob 0.701\n"
     ]
    },
    {
     "name": "stderr",
     "output_type": "stream",
     "text": [
      "[Parallel(n_jobs=4)]: Using backend ThreadingBackend with 4 concurrent workers.\n",
      "[Parallel(n_jobs=4)]: Done  42 tasks      | elapsed:    0.0s\n",
      "[Parallel(n_jobs=4)]: Done 192 tasks      | elapsed:    0.3s\n",
      "[Parallel(n_jobs=4)]: Done 442 tasks      | elapsed:    0.8s\n",
      "[Parallel(n_jobs=4)]: Done 792 tasks      | elapsed:    1.4s\n",
      "[Parallel(n_jobs=4)]: Done 1242 tasks      | elapsed:    2.3s\n",
      "[Parallel(n_jobs=4)]: Done 1792 tasks      | elapsed:    3.3s\n",
      "[Parallel(n_jobs=4)]: Done 2442 tasks      | elapsed:    4.3s\n",
      "[Parallel(n_jobs=4)]: Done 3192 tasks      | elapsed:    5.7s\n",
      "[Parallel(n_jobs=4)]: Done 4000 out of 4000 | elapsed:    7.3s finished\n",
      "[Parallel(n_jobs=4)]: Using backend ThreadingBackend with 4 concurrent workers.\n",
      "[Parallel(n_jobs=4)]: Done  42 tasks      | elapsed:    0.0s\n",
      "[Parallel(n_jobs=4)]: Done 192 tasks      | elapsed:    0.2s\n",
      "[Parallel(n_jobs=4)]: Done 442 tasks      | elapsed:    0.5s\n",
      "[Parallel(n_jobs=4)]: Done 792 tasks      | elapsed:    1.0s\n",
      "[Parallel(n_jobs=4)]: Done 1242 tasks      | elapsed:    1.6s\n",
      "[Parallel(n_jobs=4)]: Done 1792 tasks      | elapsed:    2.3s\n",
      "[Parallel(n_jobs=4)]: Done 2442 tasks      | elapsed:    3.2s\n",
      "[Parallel(n_jobs=4)]: Done 3192 tasks      | elapsed:    4.1s\n",
      "[Parallel(n_jobs=4)]: Done 4000 out of 4000 | elapsed:    5.2s finished\n",
      "[Parallel(n_jobs=4)]: Using backend ThreadingBackend with 4 concurrent workers.\n",
      "[Parallel(n_jobs=4)]: Done  42 tasks      | elapsed:    0.0s\n",
      "[Parallel(n_jobs=4)]: Done 192 tasks      | elapsed:    0.1s\n",
      "[Parallel(n_jobs=4)]: Done 442 tasks      | elapsed:    0.2s\n",
      "[Parallel(n_jobs=4)]: Done 792 tasks      | elapsed:    0.4s\n",
      "[Parallel(n_jobs=4)]: Done 1242 tasks      | elapsed:    0.7s\n",
      "[Parallel(n_jobs=4)]: Done 1792 tasks      | elapsed:    1.0s\n",
      "[Parallel(n_jobs=4)]: Done 2442 tasks      | elapsed:    1.4s\n",
      "[Parallel(n_jobs=4)]: Done 3192 tasks      | elapsed:    1.8s\n"
     ]
    },
    {
     "name": "stdout",
     "output_type": "stream",
     "text": [
      "RandomForestClassifier n( 4000) errs: train 0.2948; test 0.2775; oob 0.701\n"
     ]
    },
    {
     "name": "stderr",
     "output_type": "stream",
     "text": [
      "[Parallel(n_jobs=4)]: Done 4000 out of 4000 | elapsed:    2.2s finished\n"
     ]
    }
   ],
   "source": [
    "ranges =  chain(range(20, 300, 20), range(300, 1000, 100), range(1000, 5000, 1000))\n",
    "for n_estimators in ranges:\n",
    "    RFClassifier(split_data, n_estimators)\n",
    "    \n",
    "for n_estimators in ranges:\n",
    "    print(RES_MAP[f'RF_n_est_{n_estimators}']['stat'])\n",
    "    "
   ]
  },
  {
   "cell_type": "code",
   "execution_count": null,
   "metadata": {},
   "outputs": [],
   "source": []
  },
  {
   "cell_type": "code",
   "execution_count": 114,
   "metadata": {},
   "outputs": [
    {
     "data": {
      "image/png": "[encoded data removed]",
      "text/plain": [
       "<Figure size 720x720 with 1 Axes>"
      ]
     },
     "metadata": {
      "needs_background": "light"
     },
     "output_type": "display_data"
    },
    {
     "data": {
      "image/png": "[encoded data removed]",
      "text/plain": [
       "<Figure size 720x720 with 1 Axes>"
      ]
     },
     "metadata": {
      "needs_background": "light"
     },
     "output_type": "display_data"
    },
    {
     "data": {
      "image/png": "[encoded data removed]",
      "text/plain": [
       "<Figure size 720x720 with 1 Axes>"
      ]
     },
     "metadata": {
      "needs_background": "light"
     },
     "output_type": "display_data"
    }
   ],
   "source": [
    "def PlotErr(classifier_name, field_name, label, color, title):\n",
    "    fig, ax = plt.subplots(figsize=(10,10))\n",
    "    \n",
    "    x_plt = []\n",
    "    y_plt = []\n",
    "    ranges = chain(range(20, 300, 20), range(300, 1000, 100), range(1000, 5000, 1000))\n",
    "    for n_estimators in ranges:\n",
    "        x_plt.append(n_estimators)\n",
    "        y_plt.append(RES_MAP[f'{classifier_name}_n_est_{n_estimators}'][field_name])\n",
    "\n",
    "\n",
    "    ax.plot(x_plt, y_plt, label=label, color=color)\n",
    "    ax.set_ylabel('Error')\n",
    "    ax.set_xlabel('n_estimators')\n",
    "    ax.set_title(title)\n",
    "    ax.legend(loc='best')\n",
    "    plt.grid(True)\n",
    "    plt.show()\n",
    "\n",
    "\n",
    "PlotErr(classifier_name='RF', field_name='train_e', label='RF train', color='C0', title='RandomForest train err')\n",
    "PlotErr(classifier_name='RF', field_name='test_e', label='RF test', color='C1', title='RandomForest test err')\n",
    "PlotErr(classifier_name='RF', field_name='oob_e', label='RF oob', color='C2', title='RandomForest oob err')"
   ]
  },
  {
   "cell_type": "code",
   "execution_count": 117,
   "metadata": {},
   "outputs": [
    {
     "data": {
      "image/png": "[encoded data removed]",
      "text/plain": [
       "<Figure size 720x720 with 2 Axes>"
      ]
     },
     "metadata": {
      "needs_background": "light"
     },
     "output_type": "display_data"
    },
    {
     "data": {
      "image/png": "[encoded data removed]",
      "text/plain": [
       "<Figure size 720x720 with 2 Axes>"
      ]
     },
     "metadata": {
      "needs_background": "light"
     },
     "output_type": "display_data"
    },
    {
     "name": "stdout",
     "output_type": "stream",
     "text": [
      "              precision    recall  f1-score   support\n",
      "\n",
      "           0       0.86      0.58      0.70        96\n",
      "           1       0.71      0.98      0.83       557\n",
      "           2       0.00      0.00      0.00       129\n",
      "           3       0.00      0.00      0.00        40\n",
      "           4       0.00      0.00      0.00        14\n",
      "\n",
      "    accuracy                           0.72       836\n",
      "   macro avg       0.31      0.31      0.30       836\n",
      "weighted avg       0.57      0.72      0.63       836\n",
      "\n"
     ]
    },
    {
     "name": "stderr",
     "output_type": "stream",
     "text": [
      "C:\\Users\\ilosev\\AppData\\Local\\Continuum\\anaconda3\\lib\\site-packages\\sklearn\\metrics\\classification.py:1437: UndefinedMetricWarning: Precision and F-score are ill-defined and being set to 0.0 in labels with no predicted samples.\n",
      "  'precision', 'predicted', average, warn_for)\n"
     ]
    }
   ],
   "source": [
    "y_pred = RES_MAP[f'RF_n_est_{500}']['predict']\n",
    "cnf_matrix = confusion_matrix(y_test, y_pred)\n",
    "\n",
    "fig, ax = plt.subplots(figsize=(10,10))\n",
    "ax = sns.heatmap(cnf_matrix / cnf_matrix.astype(np.float).sum(axis=1), annot=True, fmt='.2%')\n",
    "ax.set_xlabel('Predicted labels')\n",
    "ax.set_ylabel('True labels')\n",
    "plt.show()\n",
    "\n",
    "fig, ax = plt.subplots(figsize=(10,10))\n",
    "ax = sns.heatmap(cnf_matrix, annot=True, fmt='5')\n",
    "ax.set_xlabel('Predicted labels')\n",
    "ax.set_ylabel('True labels')\n",
    "plt.show()\n",
    "\n",
    "print(classification_report(y_test, y_pred))"
   ]
  },
  {
   "cell_type": "code",
   "execution_count": null,
   "metadata": {},
   "outputs": [],
   "source": []
  },
  {
   "cell_type": "code",
   "execution_count": null,
   "metadata": {},
   "outputs": [],
   "source": []
  },
  {
   "cell_type": "code",
   "execution_count": null,
   "metadata": {},
   "outputs": [],
   "source": []
  },
  {
   "cell_type": "code",
   "execution_count": 107,
   "metadata": {},
   "outputs": [
    {
     "name": "stdout",
     "output_type": "stream",
     "text": [
      "      Iter       Train Loss      OOB Improve   Remaining Time \n",
      "         1        2770.1244          21.0952            0.61s\n",
      "         2        2556.2749          14.8130            0.62s\n",
      "         3        2477.4543          10.6339            0.60s\n",
      "         4        2376.1066           6.5939            0.56s\n",
      "         5        2264.5693           5.3595            0.52s\n",
      "         6        2198.2121           5.3673            0.49s\n",
      "         7        2148.8813           4.1732            0.45s\n",
      "         8        2094.2918           2.5636            0.42s\n",
      "         9        2048.5627           2.7145            0.38s\n",
      "        10        2015.1196           1.8470            0.34s\n",
      "        20        1745.1956           0.5640            0.00s\n",
      "GradientBoostingClassifier n(   20) errs: train 0.2209; test 0.2596\n",
      "      Iter       Train Loss      OOB Improve   Remaining Time \n",
      "         1        2770.1244          21.0952            1.33s\n",
      "         2        2556.2749          14.8130            1.33s\n",
      "         3        2477.4543          10.6339            1.33s\n",
      "         4        2376.1066           6.5939            1.29s\n",
      "         5        2264.5693           5.3595            1.20s\n",
      "         6        2198.2121           5.3673            1.16s\n",
      "         7        2148.8813           4.1732            1.13s\n",
      "         8        2094.2918           2.5636            1.10s\n",
      "         9        2048.5627           2.7145            1.07s\n",
      "        10        2015.1196           1.8470            1.04s\n",
      "        20        1745.1956           0.5640            0.68s\n",
      "        30        1579.9353          -0.5865            0.34s\n",
      "        40        1476.8004          -0.3817            0.00s\n",
      "GradientBoostingClassifier n(   40) errs: train 0.1844; test 0.2715\n",
      "      Iter       Train Loss      OOB Improve   Remaining Time \n",
      "         1        2770.1244          21.0952            2.07s\n",
      "         2        2556.2749          14.8130            2.06s\n",
      "         3        2477.4543          10.6339            2.03s\n",
      "         4        2376.1066           6.5939            1.99s\n",
      "         5        2264.5693           5.3595            1.96s\n",
      "         6        2198.2121           5.3673            1.92s\n",
      "         7        2148.8813           4.1732            1.88s\n",
      "         8        2094.2918           2.5636            1.85s\n",
      "         9        2048.5627           2.7145            1.81s\n",
      "        10        2015.1196           1.8470            1.77s\n",
      "        20        1745.1956           0.5640            1.34s\n",
      "        30        1579.9353          -0.5865            1.05s\n",
      "        40        1476.8004          -0.3817            0.71s\n",
      "        50        1378.9928          -0.5498            0.36s\n",
      "        60        1269.6241          -0.9065            0.00s\n",
      "GradientBoostingClassifier n(   60) errs: train 0.1512; test 0.2739\n",
      "      Iter       Train Loss      OOB Improve   Remaining Time \n",
      "         1        2770.1244          21.0952            2.34s\n",
      "         2        2556.2749          14.8130            2.17s\n",
      "         3        2477.4543          10.6339            2.40s\n",
      "         4        2376.1066           6.5939            2.57s\n",
      "         5        2264.5693           5.3595            2.52s\n",
      "         6        2198.2121           5.3673            2.50s\n",
      "         7        2148.8813           4.1732            2.49s\n",
      "         8        2094.2918           2.5636            2.47s\n",
      "         9        2048.5627           2.7145            2.44s\n",
      "        10        2015.1196           1.8470            2.41s\n",
      "        20        1745.1956           0.5640            2.04s\n",
      "        30        1579.9353          -0.5865            1.70s\n",
      "        40        1476.8004          -0.3817            1.32s\n",
      "        50        1378.9928          -0.5498            0.98s\n",
      "        60        1269.6241          -0.9065            0.64s\n",
      "        70        1212.5895          -0.6833            0.32s\n",
      "        80        1130.0153          -0.3456            0.00s\n",
      "GradientBoostingClassifier n(   80) errs: train 0.1275; test 0.2799\n",
      "      Iter       Train Loss      OOB Improve   Remaining Time \n",
      "         1        2770.1244          21.0952            3.46s\n",
      "         2        2556.2749          14.8130            3.28s\n",
      "         3        2477.4543          10.6339            3.35s\n",
      "         4        2376.1066           6.5939            3.29s\n",
      "         5        2264.5693           5.3595            3.19s\n",
      "         6        2198.2121           5.3673            3.18s\n",
      "         7        2148.8813           4.1732            3.15s\n",
      "         8        2094.2918           2.5636            3.14s\n",
      "         9        2048.5627           2.7145            3.11s\n",
      "        10        2015.1196           1.8470            3.11s\n",
      "        20        1745.1956           0.5640            2.67s\n",
      "        30        1579.9353          -0.5865            2.32s\n",
      "        40        1476.8004          -0.3817            1.98s\n",
      "        50        1378.9928          -0.5498            1.65s\n",
      "        60        1269.6241          -0.9065            1.31s\n",
      "        70        1212.5895          -0.6833            0.98s\n",
      "        80        1130.0153          -0.3456            0.65s\n",
      "        90        1083.0321          -0.2459            0.33s\n",
      "       100        1010.2010          -0.5775            0.00s\n",
      "GradientBoostingClassifier n(  100) errs: train 0.1095; test 0.2763\n",
      "      Iter       Train Loss      OOB Improve   Remaining Time \n",
      "         1        2770.1244          21.0952            4.57s\n",
      "         2        2556.2749          14.8130            4.14s\n",
      "         3        2477.4543          10.6339            4.06s\n",
      "         4        2376.1066           6.5939            3.86s\n",
      "         5        2264.5693           5.3595            3.82s\n",
      "         6        2198.2121           5.3673            3.86s\n",
      "         7        2148.8813           4.1732            3.86s\n",
      "         8        2094.2918           2.5636            3.85s\n",
      "         9        2048.5627           2.7145            3.82s\n",
      "        10        2015.1196           1.8470            3.76s\n",
      "        20        1745.1956           0.5640            3.34s\n",
      "        30        1579.9353          -0.5865            2.99s\n",
      "        40        1476.8004          -0.3817            2.65s\n",
      "        50        1378.9928          -0.5498            2.32s\n",
      "        60        1269.6241          -0.9065            2.00s\n",
      "        70        1212.5895          -0.6833            1.67s\n",
      "        80        1130.0153          -0.3456            1.32s\n",
      "        90        1083.0321          -0.2459            0.99s\n",
      "       100        1010.2010          -0.5775            0.66s\n",
      "GradientBoostingClassifier n(  120) errs: train 0.0943; test 0.2703\n",
      "      Iter       Train Loss      OOB Improve   Remaining Time \n",
      "         1        2770.1244          21.0952            4.86s\n",
      "         2        2556.2749          14.8130            4.83s\n",
      "         3        2477.4543          10.6339            4.79s\n",
      "         4        2376.1066           6.5939            4.96s\n",
      "         5        2264.5693           5.3595            4.89s\n",
      "         6        2198.2121           5.3673            4.76s\n",
      "         7        2148.8813           4.1732            4.69s\n",
      "         8        2094.2918           2.5636            4.69s\n",
      "         9        2048.5627           2.7145            4.64s\n",
      "        10        2015.1196           1.8470            4.59s\n",
      "        20        1745.1956           0.5640            4.14s\n",
      "        30        1579.9353          -0.5865            3.46s\n",
      "        40        1476.8004          -0.3817            3.13s\n",
      "        50        1378.9928          -0.5498            2.77s\n",
      "        60        1269.6241          -0.9065            2.44s\n",
      "        70        1212.5895          -0.6833            2.15s\n",
      "        80        1130.0153          -0.3456            1.81s\n",
      "        90        1083.0321          -0.2459            1.47s\n",
      "       100        1010.2010          -0.5775            1.18s\n",
      "GradientBoostingClassifier n(  140) errs: train 0.0805; test 0.2739\n",
      "      Iter       Train Loss      OOB Improve   Remaining Time \n",
      "         1        2770.1244          21.0952            5.36s\n",
      "         2        2556.2749          14.8130            6.06s\n",
      "         3        2477.4543          10.6339            6.05s\n",
      "         4        2376.1066           6.5939            6.07s\n"
     ]
    },
    {
     "name": "stdout",
     "output_type": "stream",
     "text": [
      "         5        2264.5693           5.3595            5.91s\n",
      "         6        2198.2121           5.3673            6.15s\n",
      "         7        2148.8813           4.1732            6.06s\n",
      "         8        2094.2918           2.5636            5.89s\n",
      "         9        2048.5627           2.7145            5.78s\n",
      "        10        2015.1196           1.8470            5.79s\n",
      "        20        1745.1956           0.5640            5.35s\n",
      "        30        1579.9353          -0.5865            4.96s\n",
      "        40        1476.8004          -0.3817            4.57s\n",
      "        50        1378.9928          -0.5498            4.10s\n",
      "        60        1269.6241          -0.9065            3.64s\n",
      "        70        1212.5895          -0.6833            3.23s\n",
      "        80        1130.0153          -0.3456            2.84s\n",
      "        90        1083.0321          -0.2459            2.47s\n",
      "       100        1010.2010          -0.5775            2.11s\n",
      "GradientBoostingClassifier n(  160) errs: train 0.0652; test 0.2787\n",
      "      Iter       Train Loss      OOB Improve   Remaining Time \n",
      "         1        2770.1244          21.0952            6.09s\n",
      "         2        2556.2749          14.8130            6.23s\n",
      "         3        2477.4543          10.6339            6.32s\n",
      "         4        2376.1066           6.5939            6.25s\n",
      "         5        2264.5693           5.3595            6.20s\n",
      "         6        2198.2121           5.3673            6.29s\n",
      "         7        2148.8813           4.1732            6.23s\n",
      "         8        2094.2918           2.5636            6.15s\n",
      "         9        2048.5627           2.7145            6.12s\n",
      "        10        2015.1196           1.8470            6.10s\n",
      "        20        1745.1956           0.5640            5.56s\n",
      "        30        1579.9353          -0.5865            5.15s\n",
      "        40        1476.8004          -0.3817            4.72s\n",
      "        50        1378.9928          -0.5498            4.36s\n",
      "        60        1269.6241          -0.9065            4.02s\n",
      "        70        1212.5895          -0.6833            3.68s\n",
      "        80        1130.0153          -0.3456            3.35s\n",
      "        90        1083.0321          -0.2459            3.01s\n",
      "       100        1010.2010          -0.5775            2.67s\n",
      "GradientBoostingClassifier n(  180) errs: train 0.0539; test 0.2763\n",
      "      Iter       Train Loss      OOB Improve   Remaining Time \n",
      "         1        2770.1244          21.0952            5.38s\n",
      "         2        2556.2749          14.8130            6.08s\n",
      "         3        2477.4543          10.6339            5.87s\n",
      "         4        2376.1066           6.5939            5.46s\n",
      "         5        2264.5693           5.3595            5.51s\n",
      "         6        2198.2121           5.3673            5.44s\n",
      "         7        2148.8813           4.1732            5.70s\n",
      "         8        2094.2918           2.5636            5.51s\n",
      "         9        2048.5627           2.7145            5.34s\n",
      "        10        2015.1196           1.8470            5.42s\n",
      "        20        1745.1956           0.5640            5.66s\n",
      "        30        1579.9353          -0.5865            5.44s\n",
      "        40        1476.8004          -0.3817            4.95s\n",
      "        50        1378.9928          -0.5498            4.51s\n",
      "        60        1269.6241          -0.9065            4.27s\n",
      "        70        1212.5895          -0.6833            3.94s\n",
      "        80        1130.0153          -0.3456            3.68s\n",
      "        90        1083.0321          -0.2459            3.41s\n",
      "       100        1010.2010          -0.5775            3.12s\n",
      "       200         624.8499          -0.3497            0.00s\n",
      "GradientBoostingClassifier n(  200) errs: train 0.0458; test 0.2775\n",
      "      Iter       Train Loss      OOB Improve   Remaining Time \n",
      "         1        2770.1244          21.0952            6.58s\n",
      "         2        2556.2749          14.8130            6.06s\n",
      "         3        2477.4543          10.6339            6.48s\n",
      "         4        2376.1066           6.5939            6.78s\n",
      "         5        2264.5693           5.3595            6.98s\n",
      "         6        2198.2121           5.3673            7.05s\n",
      "         7        2148.8813           4.1732            7.10s\n",
      "         8        2094.2918           2.5636            7.16s\n",
      "         9        2048.5627           2.7145            7.23s\n",
      "        10        2015.1196           1.8470            7.38s\n",
      "        20        1745.1956           0.5640            6.72s\n",
      "        30        1579.9353          -0.5865            6.32s\n",
      "        40        1476.8004          -0.3817            5.94s\n",
      "        50        1378.9928          -0.5498            5.61s\n",
      "        60        1269.6241          -0.9065            5.29s\n",
      "        70        1212.5895          -0.6833            4.95s\n",
      "        80        1130.0153          -0.3456            4.64s\n",
      "        90        1083.0321          -0.2459            4.32s\n",
      "       100        1010.2010          -0.5775            3.98s\n",
      "       200         624.8499          -0.3497            0.63s\n",
      "GradientBoostingClassifier n(  220) errs: train 0.0362; test 0.2799\n",
      "      Iter       Train Loss      OOB Improve   Remaining Time \n",
      "         1        2770.1244          21.0952            8.37s\n",
      "         2        2556.2749          14.8130            8.58s\n",
      "         3        2477.4543          10.6339            8.53s\n",
      "         4        2376.1066           6.5939            8.50s\n",
      "         5        2264.5693           5.3595            8.46s\n",
      "         6        2198.2121           5.3673            8.58s\n",
      "         7        2148.8813           4.1732            8.49s\n",
      "         8        2094.2918           2.5636            8.44s\n",
      "         9        2048.5627           2.7145            8.39s\n",
      "        10        2015.1196           1.8470            8.35s\n",
      "        20        1745.1956           0.5640            7.60s\n",
      "        30        1579.9353          -0.5865            7.19s\n",
      "        40        1476.8004          -0.3817            6.73s\n",
      "        50        1378.9928          -0.5498            6.41s\n",
      "        60        1269.6241          -0.9065            6.11s\n",
      "        70        1212.5895          -0.6833            5.75s\n",
      "        80        1130.0153          -0.3456            5.40s\n",
      "        90        1083.0321          -0.2459            5.05s\n",
      "       100        1010.2010          -0.5775            4.72s\n",
      "       200         624.8499          -0.3497            1.33s\n",
      "GradientBoostingClassifier n(  240) errs: train 0.0284; test 0.2799\n",
      "      Iter       Train Loss      OOB Improve   Remaining Time \n",
      "         1        2770.1244          21.0952           11.60s\n",
      "         2        2556.2749          14.8130           11.06s\n",
      "         3        2477.4543          10.6339           10.52s\n",
      "         4        2376.1066           6.5939           10.16s\n",
      "         5        2264.5693           5.3595            9.73s\n",
      "         6        2198.2121           5.3673            9.43s\n",
      "         7        2148.8813           4.1732            9.32s\n",
      "         8        2094.2918           2.5636            9.22s\n",
      "         9        2048.5627           2.7145            9.14s\n",
      "        10        2015.1196           1.8470            9.12s\n",
      "        20        1745.1956           0.5640            8.29s\n",
      "        30        1579.9353          -0.5865            7.76s\n",
      "        40        1476.8004          -0.3817            7.35s\n",
      "        50        1378.9928          -0.5498            6.77s\n",
      "        60        1269.6241          -0.9065            6.47s\n",
      "        70        1212.5895          -0.6833            6.15s\n",
      "        80        1130.0153          -0.3456            5.82s\n",
      "        90        1083.0321          -0.2459            5.52s\n",
      "       100        1010.2010          -0.5775            5.21s\n",
      "       200         624.8499          -0.3497            1.95s\n",
      "GradientBoostingClassifier n(  260) errs: train 0.0251; test 0.2775\n",
      "      Iter       Train Loss      OOB Improve   Remaining Time \n",
      "         1        2770.1244          21.0952            7.53s\n",
      "         2        2556.2749          14.8130            7.23s\n",
      "         3        2477.4543          10.6339            7.94s\n",
      "         4        2376.1066           6.5939            8.21s\n",
      "         5        2264.5693           5.3595            8.53s\n",
      "         6        2198.2121           5.3673            8.77s\n"
     ]
    },
    {
     "name": "stdout",
     "output_type": "stream",
     "text": [
      "         7        2148.8813           4.1732            8.93s\n",
      "         8        2094.2918           2.5636            8.98s\n",
      "         9        2048.5627           2.7145            9.04s\n",
      "        10        2015.1196           1.8470            8.99s\n",
      "        20        1745.1956           0.5640            8.59s\n",
      "        30        1579.9353          -0.5865            8.00s\n",
      "        40        1476.8004          -0.3817            7.76s\n",
      "        50        1378.9928          -0.5498            7.46s\n",
      "        60        1269.6241          -0.9065            7.17s\n",
      "        70        1212.5895          -0.6833            6.85s\n",
      "        80        1130.0153          -0.3456            6.38s\n",
      "        90        1083.0321          -0.2459            6.09s\n",
      "       100        1010.2010          -0.5775            5.80s\n",
      "       200         624.8499          -0.3497            2.62s\n",
      "GradientBoostingClassifier n(  280) errs: train 0.021; test 0.2799\n",
      "      Iter       Train Loss      OOB Improve   Remaining Time \n",
      "         1        2770.1244          21.0952            9.27s\n",
      "         2        2556.2749          14.8130            9.54s\n",
      "         3        2477.4543          10.6339            9.21s\n",
      "         4        2376.1066           6.5939            9.47s\n",
      "         5        2264.5693           5.3595            9.68s\n",
      "         6        2198.2121           5.3673            9.95s\n",
      "         7        2148.8813           4.1732            9.79s\n",
      "         8        2094.2918           2.5636            9.56s\n",
      "         9        2048.5627           2.7145            9.64s\n",
      "        10        2015.1196           1.8470            9.69s\n",
      "        20        1745.1956           0.5640            8.49s\n",
      "        30        1579.9353          -0.5865            7.92s\n",
      "        40        1476.8004          -0.3817            7.83s\n",
      "        50        1378.9928          -0.5498            7.68s\n",
      "        60        1269.6241          -0.9065            7.37s\n",
      "        70        1212.5895          -0.6833            7.14s\n",
      "        80        1130.0153          -0.3456            6.82s\n",
      "        90        1083.0321          -0.2459            6.56s\n",
      "       100        1010.2010          -0.5775            6.29s\n",
      "       200         624.8499          -0.3497            3.10s\n",
      "       300         406.0033          -0.2531            0.00s\n",
      "GradientBoostingClassifier n(  300) errs: train 0.0171; test 0.2811\n",
      "      Iter       Train Loss      OOB Improve   Remaining Time \n",
      "         1        2770.1244          21.0952           13.29s\n",
      "         2        2556.2749          14.8130           13.83s\n",
      "         3        2477.4543          10.6339           13.95s\n",
      "         4        2376.1066           6.5939           14.00s\n",
      "         5        2264.5693           5.3595           14.07s\n",
      "         6        2198.2121           5.3673           13.92s\n",
      "         7        2148.8813           4.1732           13.92s\n",
      "         8        2094.2918           2.5636           13.91s\n",
      "         9        2048.5627           2.7145           13.90s\n",
      "        10        2015.1196           1.8470           13.88s\n",
      "        20        1745.1956           0.5640           13.10s\n",
      "        30        1579.9353          -0.5865           12.55s\n",
      "        40        1476.8004          -0.3817           12.17s\n",
      "        50        1378.9928          -0.5498           11.78s\n",
      "        60        1269.6241          -0.9065           11.39s\n",
      "        70        1212.5895          -0.6833           10.94s\n",
      "        80        1130.0153          -0.3456           10.53s\n",
      "        90        1083.0321          -0.2459           10.09s\n",
      "       100        1010.2010          -0.5775            9.81s\n",
      "       200         624.8499          -0.3497            6.71s\n",
      "       300         406.0033          -0.2531            3.33s\n",
      "       400         268.5111          -0.1223            0.00s\n",
      "GradientBoostingClassifier n(  400) errs: train 0.0045; test 0.2883\n",
      "      Iter       Train Loss      OOB Improve   Remaining Time \n",
      "         1        2770.1244          21.0952           16.99s\n",
      "         2        2556.2749          14.8130           17.43s\n",
      "         3        2477.4543          10.6339           18.08s\n",
      "         4        2376.1066           6.5939           18.37s\n",
      "         5        2264.5693           5.3595           18.23s\n",
      "         6        2198.2121           5.3673           18.21s\n",
      "         7        2148.8813           4.1732           18.04s\n",
      "         8        2094.2918           2.5636           18.03s\n",
      "         9        2048.5627           2.7145           17.90s\n",
      "        10        2015.1196           1.8470           17.85s\n",
      "        20        1745.1956           0.5640           16.70s\n",
      "        30        1579.9353          -0.5865           16.12s\n",
      "        40        1476.8004          -0.3817           15.59s\n",
      "        50        1378.9928          -0.5498           15.12s\n",
      "        60        1269.6241          -0.9065           14.79s\n",
      "        70        1212.5895          -0.6833           14.46s\n",
      "        80        1130.0153          -0.3456           14.08s\n",
      "        90        1083.0321          -0.2459           13.71s\n",
      "       100        1010.2010          -0.5775           13.30s\n",
      "       200         624.8499          -0.3497            9.98s\n",
      "       300         406.0033          -0.2531            6.56s\n",
      "       400         268.5111          -0.1223            3.27s\n",
      "       500         183.0449          -0.2006            0.00s\n",
      "GradientBoostingClassifier n(  500) errs: train 0.0006; test 0.2811\n",
      "      Iter       Train Loss      OOB Improve   Remaining Time \n",
      "         1        2770.1244          21.0952           22.16s\n",
      "         2        2556.2749          14.8130           21.55s\n",
      "         3        2477.4543          10.6339           21.49s\n",
      "         4        2376.1066           6.5939           21.46s\n",
      "         5        2264.5693           5.3595           21.43s\n",
      "         6        2198.2121           5.3673           21.19s\n",
      "         7        2148.8813           4.1732           21.18s\n",
      "         8        2094.2918           2.5636           21.02s\n",
      "         9        2048.5627           2.7145           20.88s\n",
      "        10        2015.1196           1.8470           20.89s\n",
      "        20        1745.1956           0.5640           19.69s\n",
      "        30        1579.9353          -0.5865           19.34s\n",
      "        40        1476.8004          -0.3817           18.82s\n",
      "        50        1378.9928          -0.5498           18.42s\n",
      "        60        1269.6241          -0.9065           17.98s\n",
      "        70        1212.5895          -0.6833           17.67s\n",
      "        80        1130.0153          -0.3456           17.32s\n",
      "        90        1083.0321          -0.2459           16.93s\n",
      "       100        1010.2010          -0.5775           16.60s\n",
      "       200         624.8499          -0.3497           13.04s\n",
      "       300         406.0033          -0.2531            9.88s\n",
      "       400         268.5111          -0.1223            6.59s\n",
      "       500         183.0449          -0.2006            3.30s\n",
      "       600         129.7917          -0.0716            0.00s\n",
      "GradientBoostingClassifier n(  600) errs: train 0.0; test 0.2823\n",
      "      Iter       Train Loss      OOB Improve   Remaining Time \n",
      "         1        2770.1244          21.0952           20.97s\n",
      "         2        2556.2749          14.8130           26.18s\n",
      "         3        2477.4543          10.6339           24.91s\n",
      "         4        2376.1066           6.5939           24.88s\n",
      "         5        2264.5693           5.3595           25.16s\n",
      "         6        2198.2121           5.3673           25.91s\n",
      "         7        2148.8813           4.1732           24.97s\n",
      "         8        2094.2918           2.5636           25.69s\n",
      "         9        2048.5627           2.7145           25.49s\n",
      "        10        2015.1196           1.8470           25.39s\n",
      "        20        1745.1956           0.5640           22.07s\n",
      "        30        1579.9353          -0.5865           22.99s\n",
      "        40        1476.8004          -0.3817           23.06s\n",
      "        50        1378.9928          -0.5498           22.15s\n",
      "        60        1269.6241          -0.9065           21.95s\n",
      "        70        1212.5895          -0.6833           21.23s\n",
      "        80        1130.0153          -0.3456           22.00s\n",
      "        90        1083.0321          -0.2459           21.39s\n"
     ]
    },
    {
     "name": "stdout",
     "output_type": "stream",
     "text": [
      "       100        1010.2010          -0.5775           20.70s\n",
      "       200         624.8499          -0.3497           16.30s\n",
      "       300         406.0033          -0.2531           12.71s\n",
      "       400         268.5111          -0.1223            9.22s\n",
      "       500         183.0449          -0.2006            6.10s\n",
      "       600         129.7917          -0.0716            3.09s\n",
      "       700          95.0444          -0.0436            0.00s\n",
      "GradientBoostingClassifier n(  700) errs: train 0.0; test 0.2811\n",
      "      Iter       Train Loss      OOB Improve   Remaining Time \n",
      "         1        2770.1244          21.0952           17.58s\n",
      "         2        2556.2749          14.8130           21.57s\n",
      "         3        2477.4543          10.6339           24.97s\n",
      "         4        2376.1066           6.5939           27.26s\n",
      "         5        2264.5693           5.3595           27.67s\n",
      "         6        2198.2121           5.3673           28.80s\n",
      "         7        2148.8813           4.1732           29.42s\n",
      "         8        2094.2918           2.5636           29.17s\n",
      "         9        2048.5627           2.7145           29.06s\n",
      "        10        2015.1196           1.8470           28.81s\n",
      "        20        1745.1956           0.5640           27.44s\n",
      "        30        1579.9353          -0.5865           26.43s\n",
      "        40        1476.8004          -0.3817           25.83s\n",
      "        50        1378.9928          -0.5498           25.35s\n",
      "        60        1269.6241          -0.9065           24.79s\n",
      "        70        1212.5895          -0.6833           24.19s\n",
      "        80        1130.0153          -0.3456           23.75s\n",
      "        90        1083.0321          -0.2459           23.41s\n",
      "       100        1010.2010          -0.5775           23.02s\n",
      "       200         624.8499          -0.3497           19.00s\n",
      "       300         406.0033          -0.2531           15.98s\n",
      "       400         268.5111          -0.1223           12.94s\n",
      "       500         183.0449          -0.2006            9.68s\n",
      "       600         129.7917          -0.0716            6.40s\n",
      "       700          95.0444          -0.0436            3.16s\n",
      "       800          65.8184          -0.0951            0.00s\n",
      "GradientBoostingClassifier n(  800) errs: train 0.0; test 0.2835\n",
      "      Iter       Train Loss      OOB Improve   Remaining Time \n",
      "         1        2770.1244          21.0952           34.18s\n",
      "         2        2556.2749          14.8130           34.07s\n",
      "         3        2477.4543          10.6339           34.34s\n",
      "         4        2376.1066           6.5939           34.69s\n",
      "         5        2264.5693           5.3595           34.56s\n",
      "         6        2198.2121           5.3673           34.84s\n",
      "         7        2148.8813           4.1732           34.81s\n",
      "         8        2094.2918           2.5636           34.34s\n",
      "         9        2048.5627           2.7145           33.74s\n",
      "        10        2015.1196           1.8470           35.23s\n",
      "        20        1745.1956           0.5640           33.04s\n",
      "        30        1579.9353          -0.5865           30.19s\n",
      "        40        1476.8004          -0.3817           29.18s\n",
      "        50        1378.9928          -0.5498           29.08s\n",
      "        60        1269.6241          -0.9065           29.23s\n",
      "        70        1212.5895          -0.6833           28.43s\n",
      "        80        1130.0153          -0.3456           27.79s\n",
      "        90        1083.0321          -0.2459           27.69s\n",
      "       100        1010.2010          -0.5775           27.31s\n",
      "       200         624.8499          -0.3497           24.15s\n",
      "       300         406.0033          -0.2531           20.83s\n",
      "       400         268.5111          -0.1223           17.32s\n",
      "       500         183.0449          -0.2006           13.52s\n",
      "       600         129.7917          -0.0716           10.08s\n",
      "       700          95.0444          -0.0436            6.57s\n",
      "       800          65.8184          -0.0951            3.23s\n",
      "       900          48.1298          -0.0146            0.00s\n",
      "GradientBoostingClassifier n(  900) errs: train 0.0; test 0.2811\n",
      "      Iter       Train Loss      OOB Improve   Remaining Time \n",
      "         1        2770.1244          21.0952           35.97s\n",
      "         2        2556.2749          14.8130           36.43s\n",
      "         3        2477.4543          10.6339           36.94s\n",
      "         4        2376.1066           6.5939           37.14s\n",
      "         5        2264.5693           5.3595           36.45s\n",
      "         6        2198.2121           5.3673           36.47s\n",
      "         7        2148.8813           4.1732           36.20s\n",
      "         8        2094.2918           2.5636           35.74s\n",
      "         9        2048.5627           2.7145           35.60s\n",
      "        10        2015.1196           1.8470           35.76s\n",
      "        20        1745.1956           0.5640           34.24s\n",
      "        30        1579.9353          -0.5865           33.30s\n",
      "        40        1476.8004          -0.3817           32.70s\n",
      "        50        1378.9928          -0.5498           32.03s\n",
      "        60        1269.6241          -0.9065           31.68s\n",
      "        70        1212.5895          -0.6833           31.22s\n",
      "        80        1130.0153          -0.3456           30.79s\n",
      "        90        1083.0321          -0.2459           30.40s\n",
      "       100        1010.2010          -0.5775           30.05s\n",
      "       200         624.8499          -0.3497           27.34s\n",
      "       300         406.0033          -0.2531           23.13s\n",
      "       400         268.5111          -0.1223           19.80s\n",
      "       500         183.0449          -0.2006           16.47s\n",
      "       600         129.7917          -0.0716           13.06s\n",
      "       700          95.0444          -0.0436            9.68s\n",
      "       800          65.8184          -0.0951            6.33s\n",
      "       900          48.1298          -0.0146            3.11s\n",
      "      1000          35.2973          -0.0194            0.00s\n",
      "GradientBoostingClassifier n( 1000) errs: train 0.0; test 0.2823\n",
      "      Iter       Train Loss      OOB Improve   Remaining Time \n",
      "         1        2770.1244          21.0952            1.17m\n",
      "         2        2556.2749          14.8130            1.18m\n",
      "         3        2477.4543          10.6339            1.17m\n",
      "         4        2376.1066           6.5939            1.18m\n",
      "         5        2264.5693           5.3595            1.19m\n",
      "         6        2198.2121           5.3673            1.18m\n",
      "         7        2148.8813           4.1732            1.18m\n",
      "         8        2094.2918           2.5636            1.19m\n",
      "         9        2048.5627           2.7145            1.20m\n",
      "        10        2015.1196           1.8470            1.19m\n",
      "        20        1745.1956           0.5640            1.03m\n",
      "        30        1579.9353          -0.5865            1.03m\n",
      "        40        1476.8004          -0.3817            1.04m\n",
      "        50        1378.9928          -0.5498            1.04m\n",
      "        60        1269.6241          -0.9065            1.04m\n",
      "        70        1212.5895          -0.6833            1.05m\n",
      "        80        1130.0153          -0.3456            1.05m\n",
      "        90        1083.0321          -0.2459            1.04m\n",
      "       100        1010.2010          -0.5775            1.04m\n",
      "       200         624.8499          -0.3497           59.84s\n",
      "       300         406.0033          -0.2531           56.04s\n",
      "       400         268.5111          -0.1223           52.60s\n",
      "       500         183.0449          -0.2006           48.77s\n",
      "       600         129.7917          -0.0716           45.18s\n",
      "       700          95.0444          -0.0436           41.43s\n",
      "       800          65.8184          -0.0951           37.70s\n",
      "       900          48.1298          -0.0146           34.07s\n",
      "      1000          35.2973          -0.0194           30.58s\n",
      "      2000           1.9458          -0.0010            0.00s\n",
      "GradientBoostingClassifier n( 2000) errs: train 0.0; test 0.2943\n",
      "      Iter       Train Loss      OOB Improve   Remaining Time \n",
      "         1        2770.1244          21.0952            1.14m\n",
      "         2        2556.2749          14.8130            1.49m\n",
      "         3        2477.4543          10.6339            1.61m\n",
      "         4        2376.1066           6.5939            1.66m\n",
      "         5        2264.5693           5.3595            1.68m\n"
     ]
    },
    {
     "name": "stdout",
     "output_type": "stream",
     "text": [
      "         6        2198.2121           5.3673            1.68m\n",
      "         7        2148.8813           4.1732            1.69m\n",
      "         8        2094.2918           2.5636            1.71m\n",
      "         9        2048.5627           2.7145            1.71m\n",
      "        10        2015.1196           1.8470            1.71m\n",
      "        20        1745.1956           0.5640            1.65m\n",
      "        30        1579.9353          -0.5865            1.63m\n",
      "        40        1476.8004          -0.3817            1.60m\n",
      "        50        1378.9928          -0.5498            1.55m\n",
      "        60        1269.6241          -0.9065            1.53m\n",
      "        70        1212.5895          -0.6833            1.52m\n",
      "        80        1130.0153          -0.3456            1.50m\n",
      "        90        1083.0321          -0.2459            1.48m\n",
      "       100        1010.2010          -0.5775            1.47m\n",
      "       200         624.8499          -0.3497            1.45m\n",
      "       300         406.0033          -0.2531            1.41m\n",
      "       400         268.5111          -0.1223            1.39m\n",
      "       500         183.0449          -0.2006            1.34m\n",
      "       600         129.7917          -0.0716            1.28m\n",
      "       700          95.0444          -0.0436            1.20m\n",
      "       800          65.8184          -0.0951            1.14m\n",
      "       900          48.1298          -0.0146            1.07m\n",
      "      1000          35.2973          -0.0194            1.02m\n",
      "      2000           1.9458          -0.0010           27.57s\n",
      "      3000           0.7201          -0.0000            0.00s\n",
      "GradientBoostingClassifier n( 3000) errs: train 0.0; test 0.2967\n",
      "      Iter       Train Loss      OOB Improve   Remaining Time \n",
      "         1        2770.1244          21.0952            2.40m\n",
      "         2        2556.2749          14.8130            2.43m\n",
      "         3        2477.4543          10.6339            2.44m\n",
      "         4        2376.1066           6.5939            2.43m\n",
      "         5        2264.5693           5.3595            2.42m\n",
      "         6        2198.2121           5.3673            2.37m\n",
      "         7        2148.8813           4.1732            2.37m\n",
      "         8        2094.2918           2.5636            2.36m\n",
      "         9        2048.5627           2.7145            2.37m\n",
      "        10        2015.1196           1.8470            2.37m\n",
      "        20        1745.1956           0.5640            2.26m\n",
      "        30        1579.9353          -0.5865            2.24m\n",
      "        40        1476.8004          -0.3817            2.15m\n",
      "        50        1378.9928          -0.5498            2.10m\n",
      "        60        1269.6241          -0.9065            2.11m\n",
      "        70        1212.5895          -0.6833            2.14m\n",
      "        80        1130.0153          -0.3456            2.16m\n",
      "        90        1083.0321          -0.2459            2.15m\n",
      "       100        1010.2010          -0.5775            2.10m\n",
      "       200         624.8499          -0.3497            1.98m\n",
      "       300         406.0033          -0.2531            1.88m\n",
      "       400         268.5111          -0.1223            1.85m\n",
      "       500         183.0449          -0.2006            1.79m\n",
      "       600         129.7917          -0.0716            1.76m\n",
      "       700          95.0444          -0.0436            1.70m\n",
      "       800          65.8184          -0.0951            1.63m\n",
      "       900          48.1298          -0.0146            1.57m\n",
      "      1000          35.2973          -0.0194            1.51m\n",
      "      2000           1.9458          -0.0010           54.85s\n",
      "      3000           0.7201          -0.0000           24.13s\n",
      "      4000           0.7072          -0.0000            0.00s\n",
      "GradientBoostingClassifier n( 4000) errs: train 0.0; test 0.2967\n"
     ]
    }
   ],
   "source": [
    "ranges =  chain(range(20, 300, 20), range(300, 1000, 100), range(1000, 5000, 1000))\n",
    "for n_estimators in ranges:\n",
    "    GBClassifier(split_data, n_estimators)\n",
    "    \n",
    "for n_estimators in ranges:\n",
    "    print(RES_MAP[f'GB_n_est_{n_estimators}']['stat'])\n",
    "    "
   ]
  },
  {
   "cell_type": "code",
   "execution_count": 115,
   "metadata": {},
   "outputs": [
    {
     "data": {
      "image/png": "[encoded data removed]",
      "text/plain": [
       "<Figure size 720x720 with 1 Axes>"
      ]
     },
     "metadata": {
      "needs_background": "light"
     },
     "output_type": "display_data"
    },
    {
     "data": {
      "image/png": "[encoded data removed]",
      "text/plain": [
       "<Figure size 720x720 with 1 Axes>"
      ]
     },
     "metadata": {
      "needs_background": "light"
     },
     "output_type": "display_data"
    }
   ],
   "source": [
    "PlotErr(classifier_name='GB', field_name='train_e', label='GB train', color='C0', title='GradientBoosting train err')\n",
    "PlotErr(classifier_name='GB', field_name='test_e', label='GB test', color='C1', title='GradientBoosting test err')"
   ]
  },
  {
   "cell_type": "code",
   "execution_count": 118,
   "metadata": {},
   "outputs": [
    {
     "data": {
      "image/png": "[encoded data removed]",
      "text/plain": [
       "<Figure size 720x720 with 2 Axes>"
      ]
     },
     "metadata": {
      "needs_background": "light"
     },
     "output_type": "display_data"
    },
    {
     "data": {
      "image/png": "[encoded data removed]",
      "text/plain": [
       "<Figure size 720x720 with 2 Axes>"
      ]
     },
     "metadata": {
      "needs_background": "light"
     },
     "output_type": "display_data"
    }
   ],
   "source": [
    "y_pred = RES_MAP[f'GB_n_est_{40}']['predict']\n",
    "cnf_matrix = confusion_matrix(y_test, y_pred)\n",
    "\n",
    "fig, ax = plt.subplots(figsize=(10,10))\n",
    "ax = sns.heatmap(cnf_matrix / cnf_matrix.astype(np.float).sum(axis=1), annot=True, fmt='.2%')\n",
    "ax.set_xlabel('Predicted labels')\n",
    "ax.set_ylabel('True labels')\n",
    "plt.show()\n",
    "\n",
    "fig, ax = plt.subplots(figsize=(10,10))\n",
    "ax = sns.heatmap(cnf_matrix, annot=True, fmt='5')\n",
    "ax.set_xlabel('Predicted labels')\n",
    "ax.set_ylabel('True labels')\n",
    "plt.show()"
   ]
  },
  {
   "cell_type": "code",
   "execution_count": 123,
   "metadata": {},
   "outputs": [
    {
     "name": "stdout",
     "output_type": "stream",
     "text": [
      "Random Forest\n",
      "               precision    recall  f1-score   support\n",
      "\n",
      "           0       0.86      0.58      0.70        96\n",
      "           1       0.71      0.98      0.83       557\n",
      "           2       0.00      0.00      0.00       129\n",
      "           3       0.00      0.00      0.00        40\n",
      "           4       0.00      0.00      0.00        14\n",
      "\n",
      "    accuracy                           0.72       836\n",
      "   macro avg       0.31      0.31      0.30       836\n",
      "weighted avg       0.57      0.72      0.63       836\n",
      "\n",
      "\n",
      " ######################################## \n",
      "\n",
      "Gradient Boosting\n",
      "               precision    recall  f1-score   support\n",
      "\n",
      "           0       0.87      0.64      0.73        96\n",
      "           1       0.77      0.95      0.85       557\n",
      "           2       0.40      0.19      0.26       129\n",
      "           3       0.30      0.07      0.12        40\n",
      "           4       0.00      0.00      0.00        14\n",
      "\n",
      "    accuracy                           0.74       836\n",
      "   macro avg       0.47      0.37      0.39       836\n",
      "weighted avg       0.69      0.74      0.70       836\n",
      "\n"
     ]
    }
   ],
   "source": [
    "\n",
    "print('Random Forest\\n', classification_report(y_test, RES_MAP[f'RF_n_est_{500}']['predict']))\n",
    "print('\\n', '#'*40, '\\n')\n",
    "print('Gradient Boosting\\n', classification_report(y_test, RES_MAP[f'GB_n_est_{20}']['predict']))"
   ]
  },
  {
   "cell_type": "markdown",
   "metadata": {},
   "source": [
    "На выбранных данных Random Forest показывает практически одинаковые результаты при использовании разного числа деревьев.\n",
    "\n",
    "Лучший результат удаётся получить при n_estimators=500, Error = 0.2775\n",
    "\n",
    "Gradient Boosting показывает лучший результат уже при  n_estimators=20, Error = 0.2596\n",
    "\n",
    "При увеличении количества деревьев наблюдается переобучение и результаты на тесте только ухудшаются\n"
   ]
  },
  {
   "cell_type": "code",
   "execution_count": null,
   "metadata": {},
   "outputs": [],
   "source": []
  },
  {
   "cell_type": "code",
   "execution_count": null,
   "metadata": {},
   "outputs": [],
   "source": []
  },
  {
   "cell_type": "code",
   "execution_count": null,
   "metadata": {},
   "outputs": [],
   "source": []
  },
  {
   "cell_type": "markdown",
   "metadata": {},
   "source": [
    "Кластеризация"
   ]
  },
  {
   "cell_type": "code",
   "execution_count": 144,
   "metadata": {},
   "outputs": [
    {
     "data": {
      "text/plain": [
       "0.11602870813397129"
      ]
     },
     "execution_count": 144,
     "metadata": {},
     "output_type": "execute_result"
    }
   ],
   "source": [
    "from sklearn.cluster import KMeans, DBSCAN, AffinityPropagation, MiniBatchKMeans, FeatureAgglomeration, SpectralClustering, MeanShift\n",
    "from sklearn.model_selection import GridSearchCV\n",
    "\n",
    "model = KMeans(n_clusters=5)\n",
    "model.fit(X_train)\n",
    "pred = model.predict(X_test)\n",
    "\n",
    "sum(y_test == pred)/len(y_test)"
   ]
  },
  {
   "cell_type": "code",
   "execution_count": 147,
   "metadata": {},
   "outputs": [
    {
     "name": "stderr",
     "output_type": "stream",
     "text": [
      "C:\\Users\\ilosev\\AppData\\Local\\Continuum\\anaconda3\\lib\\site-packages\\sklearn\\model_selection\\_split.py:1978: FutureWarning: The default value of cv will change from 3 to 5 in version 0.22. Specify it explicitly to silence this warning.\n",
      "  warnings.warn(CV_WARNING, FutureWarning)\n",
      "[Parallel(n_jobs=4)]: Using backend LokyBackend with 4 concurrent workers.\n"
     ]
    },
    {
     "name": "stdout",
     "output_type": "stream",
     "text": [
      "Fitting 3 folds for each of 24 candidates, totalling 72 fits\n"
     ]
    },
    {
     "name": "stderr",
     "output_type": "stream",
     "text": [
      "[Parallel(n_jobs=4)]: Done  72 out of  72 | elapsed:    5.1s finished\n"
     ]
    },
    {
     "data": {
      "text/plain": [
       "0.24880382775119617"
      ]
     },
     "execution_count": 147,
     "metadata": {},
     "output_type": "execute_result"
    }
   ],
   "source": [
    "param = {\"init\":[\"random\", \"k-means++\"],\n",
    "         \"max_iter\":[300,400],\n",
    "         \"tol\": [1e-3,1e-4],\n",
    "         \"algorithm\": [\"auto\", \"full\",\"elkan\"]}\n",
    "model = KMeans(n_clusters=5)\n",
    "grid = GridSearchCV(model, param_grid = param, n_jobs=4, verbose=True)\n",
    "grid.fit(X_train)\n",
    "\n",
    "pred = grid.predict(X_test)\n",
    "sum(y_test == pred)/len(y_test)"
   ]
  },
  {
   "cell_type": "code",
   "execution_count": 153,
   "metadata": {},
   "outputs": [
    {
     "data": {
      "text/plain": [
       "0.10475905417539659"
      ]
     },
     "execution_count": 153,
     "metadata": {},
     "output_type": "execute_result"
    }
   ],
   "source": [
    "model = DBSCAN(eps=1.5, min_samples = 500)\n",
    "model.fit(X_train)\n",
    "sum(y_train == model.labels_)/len(y_train)"
   ]
  },
  {
   "cell_type": "code",
   "execution_count": 157,
   "metadata": {},
   "outputs": [
    {
     "data": {
      "text/plain": [
       "0.0011961722488038277"
      ]
     },
     "execution_count": 157,
     "metadata": {},
     "output_type": "execute_result"
    }
   ],
   "source": [
    "model = AffinityPropagation()\n",
    "model.fit(X_train)\n",
    "pred = model.predict(X_test)\n",
    "sum(y_test == pred)/len(y_test)"
   ]
  },
  {
   "cell_type": "code",
   "execution_count": 158,
   "metadata": {},
   "outputs": [
    {
     "name": "stderr",
     "output_type": "stream",
     "text": [
      "C:\\Users\\ilosev\\AppData\\Local\\Continuum\\anaconda3\\lib\\site-packages\\sklearn\\cluster\\spectral.py:268: ConvergenceWarning: Number of distinct clusters (2) found smaller than n_clusters (5). Possibly due to duplicate points in X.\n",
      "  n_init=n_init)\n"
     ]
    },
    {
     "data": {
      "text/plain": [
       "0.17090691409757558"
      ]
     },
     "execution_count": 158,
     "metadata": {},
     "output_type": "execute_result"
    }
   ],
   "source": [
    "model = SpectralClustering(n_clusters=5)\n",
    "model.fit(X_train)\n",
    "sum(y_train == model.labels_)/len(y_train)"
   ]
  },
  {
   "cell_type": "markdown",
   "metadata": {},
   "source": [
    "Кластеризация показала ужасные результаты"
   ]
  }
 ],
 "metadata": {
  "kernelspec": {
   "display_name": "Python 3",
   "language": "python",
   "name": "python3"
  },
  "language_info": {
   "codemirror_mode": {
    "name": "ipython",
    "version": 3
   },
   "file_extension": ".py",
   "mimetype": "text/x-python",
   "name": "python",
   "nbconvert_exporter": "python",
   "pygments_lexer": "ipython3",
   "version": "3.7.4"
  }
 },
 "nbformat": 4,
 "nbformat_minor": 2
}
